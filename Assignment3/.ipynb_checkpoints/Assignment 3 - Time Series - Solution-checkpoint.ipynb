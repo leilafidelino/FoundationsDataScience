{
 "cells": [
  {
   "cell_type": "markdown",
   "metadata": {},
   "source": [
    "Before you turn this problem in, make sure everything runs as expected. First, **restart the kernel** (in the menu bar, select Kernel$\\rightarrow$Restart) and then **run all cells** (in the menu bar, select Cell$\\rightarrow$Run All)."
   ]
  },
  {
   "cell_type": "markdown",
   "metadata": {},
   "source": [
    "# Assignment 3 - Time Series Analysis\n",
    "**(15 points total)**"
   ]
  },
  {
   "cell_type": "markdown",
   "metadata": {},
   "source": [
    "In this assignment you will conduct time series analysis of the financial data. \n",
    "\n",
    "1. Setup your environment to access and download latest stock data. Please see instructions below for different tools you can use to get the data. You can use any of the options provided, either Quandl or Yahoo Finance. If you know of any other service to download the data, please use that service, provide an explanation in the comments.\n",
    "\n",
    "2. *(2 points)* Download the **adjusted** close prices for FB, MMM, IBM and AMZN for the last 60 months. If you run into any issues downloading the data from online sources, you can use `.csv` files provided. This will not affect your grade for the assignment.\n",
    "\n",
    "3. *(3 points)* Resample the data to get prices for the end of the **business** month. Select the **Adjusted Close** for each stock.\n",
    "\n",
    "4. *(3 points)* Use the pandas `autocorrelation_plot()` function to plot the autocorrelation of the adjusted month-end close prices for each of the stocks.\n",
    "    - Are they autocorrelated?\n",
    "    - Provide short explanation.\n",
    "\n",
    "5. *(4 points)* \n",
    "    - Calculate the monthly returns for each stock using the \"shift trick\" explained in the lecture, using `shift()` function. \n",
    "    - Use pandas `autotocorrelation_plot()` to plot the autocorrelation of the monthly returns.\n",
    "    - Are the returns autocorrelated? Provide short explanation.\n",
    "\n",
    "6. *(3 points)*\n",
    "    - Combine all 4 time series (returns) into a single DataFrame,\n",
    "    - Visualize the correlation between the returns of all pairs of stocks using a scatter plot matrix (use `scatter_matrix()` function from `pandas.plotting`).\n",
    "    - Explain the results. Is there any correlation?\n",
    "    \n",
    "7. *(OPTIONAL, 2 bonus points)*\n",
    "    - Following the instructions in the article [The Glowing Python](https://glowingpython.blogspot.com/2012/10/visualizing-correlation-matrices.html), visualize the correlation of the returns of all pairs of stocks.\n",
    "\n",
    "**NOTES:** \n",
    "1. In this assignment, please make sure the DataFrame(s) do not contain any NAs before you plot autocorrelations or scatter matrix.\n",
    "2. Both options explained below use `pandas-datareader` package for remote data access. To install it, type the following in a command window: `conda install pandas-datareader`. You will also need to install one or more of the following packages `fix_yahoo_finance`, `quandl`. See below.\n",
    "\n",
    "---------"
   ]
  },
  {
   "cell_type": "markdown",
   "metadata": {},
   "source": [
    "## Downloading Stock Prices"
   ]
  },
  {
   "cell_type": "markdown",
   "metadata": {},
   "source": [
    "### Option 1 - Using QUANDL"
   ]
  },
  {
   "cell_type": "markdown",
   "metadata": {},
   "source": [
    "To use QUANDL service, you need to create an account and get an API Key. Here is the short description of steps:\n",
    "\n",
    "- Go to https://www.quandl.com/\n",
    "- Click either `sign up` at the top right corner of the home page, or scroll all the way down and click `Create Free Account` button at the bottom of the page.\n",
    "- Create an account. \n",
    "- You will receive an email to the email address you have used during the registration. Confirm your email.\n",
    "\n",
    "You are all set.\n",
    "\n",
    "Now, as you login into your account, click the avatar icon at the top right corner of the page, select `\"Account Settings.\"`\n",
    "On the next page, you will see `Your API Key` field with a long string of numbers and characters underneath. You need this API key for your call to Quandl from the notebook. In the code below, replace `YOUR_API_KEY` with the actual API key from your account. \n",
    "\n",
    "**NOTE**: You can remove this key before submitting the assignment."
   ]
  },
  {
   "cell_type": "code",
   "execution_count": 2,
   "metadata": {},
   "outputs": [],
   "source": [
    "# all imports and env variables\n",
    "import pandas as pd\n",
    "pd.core.common.is_list_like = pd.api.types.is_list_like\n",
    "import datetime\n",
    "import pandas_datareader.data as web\n",
    "\n",
    "# This line of code should work on Windows and Mac\n",
    "#%env QUANDL_API_KEY = \"YOUR_API_KEY\"\n",
    "\n",
    "# If the above line of code does not work on your system,\n",
    "# You can use this way of setting Quandl env variable\n",
    "import quandl\n",
    "quandl.ApiConfig.api_key = \"YOUR_API_KEY\"\n"
   ]
  },
  {
   "cell_type": "code",
   "execution_count": 3,
   "metadata": {},
   "outputs": [
    {
     "data": {
      "text/html": [
       "<div>\n",
       "<style scoped>\n",
       "    .dataframe tbody tr th:only-of-type {\n",
       "        vertical-align: middle;\n",
       "    }\n",
       "\n",
       "    .dataframe tbody tr th {\n",
       "        vertical-align: top;\n",
       "    }\n",
       "\n",
       "    .dataframe thead th {\n",
       "        text-align: right;\n",
       "    }\n",
       "</style>\n",
       "<table border=\"1\" class=\"dataframe\">\n",
       "  <thead>\n",
       "    <tr style=\"text-align: right;\">\n",
       "      <th></th>\n",
       "      <th>Open</th>\n",
       "      <th>High</th>\n",
       "      <th>Low</th>\n",
       "      <th>Close</th>\n",
       "      <th>Volume</th>\n",
       "      <th>ExDividend</th>\n",
       "      <th>SplitRatio</th>\n",
       "      <th>AdjOpen</th>\n",
       "      <th>AdjHigh</th>\n",
       "      <th>AdjLow</th>\n",
       "      <th>AdjClose</th>\n",
       "      <th>AdjVolume</th>\n",
       "    </tr>\n",
       "    <tr>\n",
       "      <th>Date</th>\n",
       "      <th></th>\n",
       "      <th></th>\n",
       "      <th></th>\n",
       "      <th></th>\n",
       "      <th></th>\n",
       "      <th></th>\n",
       "      <th></th>\n",
       "      <th></th>\n",
       "      <th></th>\n",
       "      <th></th>\n",
       "      <th></th>\n",
       "      <th></th>\n",
       "    </tr>\n",
       "  </thead>\n",
       "  <tbody>\n",
       "    <tr>\n",
       "      <th>2018-03-27</th>\n",
       "      <td>156.31</td>\n",
       "      <td>162.85</td>\n",
       "      <td>150.75</td>\n",
       "      <td>152.19</td>\n",
       "      <td>76787884.0</td>\n",
       "      <td>0.0</td>\n",
       "      <td>1.0</td>\n",
       "      <td>156.31</td>\n",
       "      <td>162.85</td>\n",
       "      <td>150.75</td>\n",
       "      <td>152.19</td>\n",
       "      <td>76787884.0</td>\n",
       "    </tr>\n",
       "    <tr>\n",
       "      <th>2018-03-26</th>\n",
       "      <td>160.82</td>\n",
       "      <td>161.10</td>\n",
       "      <td>149.02</td>\n",
       "      <td>160.06</td>\n",
       "      <td>125438294.0</td>\n",
       "      <td>0.0</td>\n",
       "      <td>1.0</td>\n",
       "      <td>160.82</td>\n",
       "      <td>161.10</td>\n",
       "      <td>149.02</td>\n",
       "      <td>160.06</td>\n",
       "      <td>125438294.0</td>\n",
       "    </tr>\n",
       "    <tr>\n",
       "      <th>2018-03-23</th>\n",
       "      <td>165.44</td>\n",
       "      <td>167.10</td>\n",
       "      <td>159.02</td>\n",
       "      <td>159.39</td>\n",
       "      <td>52306891.0</td>\n",
       "      <td>0.0</td>\n",
       "      <td>1.0</td>\n",
       "      <td>165.44</td>\n",
       "      <td>167.10</td>\n",
       "      <td>159.02</td>\n",
       "      <td>159.39</td>\n",
       "      <td>52306891.0</td>\n",
       "    </tr>\n",
       "    <tr>\n",
       "      <th>2018-03-22</th>\n",
       "      <td>166.13</td>\n",
       "      <td>170.27</td>\n",
       "      <td>163.72</td>\n",
       "      <td>164.89</td>\n",
       "      <td>73389988.0</td>\n",
       "      <td>0.0</td>\n",
       "      <td>1.0</td>\n",
       "      <td>166.13</td>\n",
       "      <td>170.27</td>\n",
       "      <td>163.72</td>\n",
       "      <td>164.89</td>\n",
       "      <td>73389988.0</td>\n",
       "    </tr>\n",
       "    <tr>\n",
       "      <th>2018-03-21</th>\n",
       "      <td>164.80</td>\n",
       "      <td>173.40</td>\n",
       "      <td>163.30</td>\n",
       "      <td>169.39</td>\n",
       "      <td>105350867.0</td>\n",
       "      <td>0.0</td>\n",
       "      <td>1.0</td>\n",
       "      <td>164.80</td>\n",
       "      <td>173.40</td>\n",
       "      <td>163.30</td>\n",
       "      <td>169.39</td>\n",
       "      <td>105350867.0</td>\n",
       "    </tr>\n",
       "  </tbody>\n",
       "</table>\n",
       "</div>"
      ],
      "text/plain": [
       "              Open    High     Low   Close       Volume  ExDividend  \\\n",
       "Date                                                                  \n",
       "2018-03-27  156.31  162.85  150.75  152.19   76787884.0         0.0   \n",
       "2018-03-26  160.82  161.10  149.02  160.06  125438294.0         0.0   \n",
       "2018-03-23  165.44  167.10  159.02  159.39   52306891.0         0.0   \n",
       "2018-03-22  166.13  170.27  163.72  164.89   73389988.0         0.0   \n",
       "2018-03-21  164.80  173.40  163.30  169.39  105350867.0         0.0   \n",
       "\n",
       "            SplitRatio  AdjOpen  AdjHigh  AdjLow  AdjClose    AdjVolume  \n",
       "Date                                                                     \n",
       "2018-03-27         1.0   156.31   162.85  150.75    152.19   76787884.0  \n",
       "2018-03-26         1.0   160.82   161.10  149.02    160.06  125438294.0  \n",
       "2018-03-23         1.0   165.44   167.10  159.02    159.39   52306891.0  \n",
       "2018-03-22         1.0   166.13   170.27  163.72    164.89   73389988.0  \n",
       "2018-03-21         1.0   164.80   173.40  163.30    169.39  105350867.0  "
      ]
     },
     "execution_count": 3,
     "metadata": {},
     "output_type": "execute_result"
    }
   ],
   "source": [
    "start = datetime.datetime(2013, 11, 12)\n",
    "end = datetime.datetime(2018, 11, 12)\n",
    "\n",
    "fb = web.DataReader('WIKI/FB', 'quandl', start, end)\n",
    "fb.head()"
   ]
  },
  {
   "cell_type": "markdown",
   "metadata": {},
   "source": [
    "### Option 2 - Using Yahoo Finance `fix_yahoo_finance` library"
   ]
  },
  {
   "cell_type": "code",
   "execution_count": 4,
   "metadata": {},
   "outputs": [
    {
     "name": "stdout",
     "output_type": "stream",
     "text": [
      "[*********************100%***********************]  1 of 1 downloaded\n"
     ]
    },
    {
     "data": {
      "text/html": [
       "<div>\n",
       "<style scoped>\n",
       "    .dataframe tbody tr th:only-of-type {\n",
       "        vertical-align: middle;\n",
       "    }\n",
       "\n",
       "    .dataframe tbody tr th {\n",
       "        vertical-align: top;\n",
       "    }\n",
       "\n",
       "    .dataframe thead th {\n",
       "        text-align: right;\n",
       "    }\n",
       "</style>\n",
       "<table border=\"1\" class=\"dataframe\">\n",
       "  <thead>\n",
       "    <tr style=\"text-align: right;\">\n",
       "      <th></th>\n",
       "      <th>Open</th>\n",
       "      <th>High</th>\n",
       "      <th>Low</th>\n",
       "      <th>Close</th>\n",
       "      <th>Adj Close</th>\n",
       "      <th>Volume</th>\n",
       "    </tr>\n",
       "    <tr>\n",
       "      <th>Date</th>\n",
       "      <th></th>\n",
       "      <th></th>\n",
       "      <th></th>\n",
       "      <th></th>\n",
       "      <th></th>\n",
       "      <th></th>\n",
       "    </tr>\n",
       "  </thead>\n",
       "  <tbody>\n",
       "    <tr>\n",
       "      <th>2013-11-12</th>\n",
       "      <td>352.989990</td>\n",
       "      <td>355.480011</td>\n",
       "      <td>347.279999</td>\n",
       "      <td>349.529999</td>\n",
       "      <td>349.529999</td>\n",
       "      <td>2343100</td>\n",
       "    </tr>\n",
       "    <tr>\n",
       "      <th>2013-11-13</th>\n",
       "      <td>347.399994</td>\n",
       "      <td>356.220001</td>\n",
       "      <td>345.679993</td>\n",
       "      <td>356.220001</td>\n",
       "      <td>356.220001</td>\n",
       "      <td>2773300</td>\n",
       "    </tr>\n",
       "    <tr>\n",
       "      <th>2013-11-14</th>\n",
       "      <td>357.390015</td>\n",
       "      <td>368.940002</td>\n",
       "      <td>356.429993</td>\n",
       "      <td>367.399994</td>\n",
       "      <td>367.399994</td>\n",
       "      <td>4159800</td>\n",
       "    </tr>\n",
       "    <tr>\n",
       "      <th>2013-11-15</th>\n",
       "      <td>367.630005</td>\n",
       "      <td>372.899994</td>\n",
       "      <td>365.549988</td>\n",
       "      <td>369.170013</td>\n",
       "      <td>369.170013</td>\n",
       "      <td>4491600</td>\n",
       "    </tr>\n",
       "    <tr>\n",
       "      <th>2013-11-18</th>\n",
       "      <td>370.279999</td>\n",
       "      <td>373.489990</td>\n",
       "      <td>364.670013</td>\n",
       "      <td>366.179993</td>\n",
       "      <td>366.179993</td>\n",
       "      <td>2737400</td>\n",
       "    </tr>\n",
       "  </tbody>\n",
       "</table>\n",
       "</div>"
      ],
      "text/plain": [
       "                  Open        High         Low       Close   Adj Close  \\\n",
       "Date                                                                     \n",
       "2013-11-12  352.989990  355.480011  347.279999  349.529999  349.529999   \n",
       "2013-11-13  347.399994  356.220001  345.679993  356.220001  356.220001   \n",
       "2013-11-14  357.390015  368.940002  356.429993  367.399994  367.399994   \n",
       "2013-11-15  367.630005  372.899994  365.549988  369.170013  369.170013   \n",
       "2013-11-18  370.279999  373.489990  364.670013  366.179993  366.179993   \n",
       "\n",
       "             Volume  \n",
       "Date                 \n",
       "2013-11-12  2343100  \n",
       "2013-11-13  2773300  \n",
       "2013-11-14  4159800  \n",
       "2013-11-15  4491600  \n",
       "2013-11-18  2737400  "
      ]
     },
     "execution_count": 4,
     "metadata": {},
     "output_type": "execute_result"
    }
   ],
   "source": [
    "import fix_yahoo_finance as yf\n",
    "from pandas_datareader import data as pdr\n",
    "\n",
    "# 1) Using pandas datareader and Yahoo Finance\n",
    "yf.pdr_override()\n",
    "\n",
    "amzn = pdr.get_data_yahoo('AMZN', start = start)\n",
    "amzn.head()"
   ]
  },
  {
   "cell_type": "code",
   "execution_count": 5,
   "metadata": {},
   "outputs": [
    {
     "name": "stdout",
     "output_type": "stream",
     "text": [
      "[*********************100%***********************]  1 of 1 downloaded\n"
     ]
    },
    {
     "data": {
      "text/html": [
       "<div>\n",
       "<style scoped>\n",
       "    .dataframe tbody tr th:only-of-type {\n",
       "        vertical-align: middle;\n",
       "    }\n",
       "\n",
       "    .dataframe tbody tr th {\n",
       "        vertical-align: top;\n",
       "    }\n",
       "\n",
       "    .dataframe thead th {\n",
       "        text-align: right;\n",
       "    }\n",
       "</style>\n",
       "<table border=\"1\" class=\"dataframe\">\n",
       "  <thead>\n",
       "    <tr style=\"text-align: right;\">\n",
       "      <th></th>\n",
       "      <th>Open</th>\n",
       "      <th>High</th>\n",
       "      <th>Low</th>\n",
       "      <th>Close</th>\n",
       "      <th>Adj Close</th>\n",
       "      <th>Volume</th>\n",
       "    </tr>\n",
       "    <tr>\n",
       "      <th>Date</th>\n",
       "      <th></th>\n",
       "      <th></th>\n",
       "      <th></th>\n",
       "      <th></th>\n",
       "      <th></th>\n",
       "      <th></th>\n",
       "    </tr>\n",
       "  </thead>\n",
       "  <tbody>\n",
       "    <tr>\n",
       "      <th>2013-11-12</th>\n",
       "      <td>352.989990</td>\n",
       "      <td>355.480011</td>\n",
       "      <td>347.279999</td>\n",
       "      <td>349.529999</td>\n",
       "      <td>349.529999</td>\n",
       "      <td>2343100</td>\n",
       "    </tr>\n",
       "    <tr>\n",
       "      <th>2013-11-13</th>\n",
       "      <td>347.399994</td>\n",
       "      <td>356.220001</td>\n",
       "      <td>345.679993</td>\n",
       "      <td>356.220001</td>\n",
       "      <td>356.220001</td>\n",
       "      <td>2773300</td>\n",
       "    </tr>\n",
       "    <tr>\n",
       "      <th>2013-11-14</th>\n",
       "      <td>357.390015</td>\n",
       "      <td>368.940002</td>\n",
       "      <td>356.429993</td>\n",
       "      <td>367.399994</td>\n",
       "      <td>367.399994</td>\n",
       "      <td>4159800</td>\n",
       "    </tr>\n",
       "    <tr>\n",
       "      <th>2013-11-15</th>\n",
       "      <td>367.630005</td>\n",
       "      <td>372.899994</td>\n",
       "      <td>365.549988</td>\n",
       "      <td>369.170013</td>\n",
       "      <td>369.170013</td>\n",
       "      <td>4491600</td>\n",
       "    </tr>\n",
       "    <tr>\n",
       "      <th>2013-11-18</th>\n",
       "      <td>370.279999</td>\n",
       "      <td>373.489990</td>\n",
       "      <td>364.670013</td>\n",
       "      <td>366.179993</td>\n",
       "      <td>366.179993</td>\n",
       "      <td>2737400</td>\n",
       "    </tr>\n",
       "  </tbody>\n",
       "</table>\n",
       "</div>"
      ],
      "text/plain": [
       "                  Open        High         Low       Close   Adj Close  \\\n",
       "Date                                                                     \n",
       "2013-11-12  352.989990  355.480011  347.279999  349.529999  349.529999   \n",
       "2013-11-13  347.399994  356.220001  345.679993  356.220001  356.220001   \n",
       "2013-11-14  357.390015  368.940002  356.429993  367.399994  367.399994   \n",
       "2013-11-15  367.630005  372.899994  365.549988  369.170013  369.170013   \n",
       "2013-11-18  370.279999  373.489990  364.670013  366.179993  366.179993   \n",
       "\n",
       "             Volume  \n",
       "Date                 \n",
       "2013-11-12  2343100  \n",
       "2013-11-13  2773300  \n",
       "2013-11-14  4159800  \n",
       "2013-11-15  4491600  \n",
       "2013-11-18  2737400  "
      ]
     },
     "execution_count": 5,
     "metadata": {},
     "output_type": "execute_result"
    }
   ],
   "source": [
    "# 2) Using fix_yahoo_finance library only to download AMZN data\n",
    "\n",
    "amzn = yf.download('AMZN', start=start)\n",
    "amzn.head()"
   ]
  },
  {
   "cell_type": "markdown",
   "metadata": {},
   "source": [
    "### Option 3 - Use `.csv` files provided"
   ]
  },
  {
   "cell_type": "code",
   "execution_count": 6,
   "metadata": {},
   "outputs": [],
   "source": [
    "# Before we read the data, import additional libraries\n",
    "# for plotting\n",
    "\n",
    "from pandas.plotting import autocorrelation_plot, scatter_matrix\n",
    "import matplotlib.pyplot as plt\n",
    "%matplotlib inline\n",
    "plt.rc('figure', figsize=(12, 6))"
   ]
  },
  {
   "cell_type": "markdown",
   "metadata": {},
   "source": [
    "----\n",
    "\n",
    "2. *(2 points)* Download the **adjusted** close prices for FB, MMM, IBM and AMZN for the last 60 months. If you run into any issues downloading the data from online sources, you can use `.csv` files provided. This will not affect your grade for the assignment.\n",
    "\n",
    "---"
   ]
  },
  {
   "cell_type": "code",
   "execution_count": 7,
   "metadata": {},
   "outputs": [
    {
     "data": {
      "text/html": [
       "<div>\n",
       "<style scoped>\n",
       "    .dataframe tbody tr th:only-of-type {\n",
       "        vertical-align: middle;\n",
       "    }\n",
       "\n",
       "    .dataframe tbody tr th {\n",
       "        vertical-align: top;\n",
       "    }\n",
       "\n",
       "    .dataframe thead th {\n",
       "        text-align: right;\n",
       "    }\n",
       "</style>\n",
       "<table border=\"1\" class=\"dataframe\">\n",
       "  <thead>\n",
       "    <tr style=\"text-align: right;\">\n",
       "      <th></th>\n",
       "      <th>Open</th>\n",
       "      <th>High</th>\n",
       "      <th>Low</th>\n",
       "      <th>Close</th>\n",
       "      <th>Volume</th>\n",
       "      <th>ExDividend</th>\n",
       "      <th>SplitRatio</th>\n",
       "      <th>AdjOpen</th>\n",
       "      <th>AdjHigh</th>\n",
       "      <th>AdjLow</th>\n",
       "      <th>AdjClose</th>\n",
       "      <th>AdjVolume</th>\n",
       "    </tr>\n",
       "    <tr>\n",
       "      <th>Date</th>\n",
       "      <th></th>\n",
       "      <th></th>\n",
       "      <th></th>\n",
       "      <th></th>\n",
       "      <th></th>\n",
       "      <th></th>\n",
       "      <th></th>\n",
       "      <th></th>\n",
       "      <th></th>\n",
       "      <th></th>\n",
       "      <th></th>\n",
       "      <th></th>\n",
       "    </tr>\n",
       "  </thead>\n",
       "  <tbody>\n",
       "    <tr>\n",
       "      <th>2017-06-30</th>\n",
       "      <td>151.90</td>\n",
       "      <td>151.92</td>\n",
       "      <td>150.0600</td>\n",
       "      <td>150.98</td>\n",
       "      <td>14540013.0</td>\n",
       "      <td>0.0</td>\n",
       "      <td>1.0</td>\n",
       "      <td>151.90</td>\n",
       "      <td>151.92</td>\n",
       "      <td>150.0600</td>\n",
       "      <td>150.98</td>\n",
       "      <td>14540013.0</td>\n",
       "    </tr>\n",
       "    <tr>\n",
       "      <th>2017-06-29</th>\n",
       "      <td>152.28</td>\n",
       "      <td>152.50</td>\n",
       "      <td>148.9175</td>\n",
       "      <td>151.04</td>\n",
       "      <td>23771610.0</td>\n",
       "      <td>0.0</td>\n",
       "      <td>1.0</td>\n",
       "      <td>152.28</td>\n",
       "      <td>152.50</td>\n",
       "      <td>148.9175</td>\n",
       "      <td>151.04</td>\n",
       "      <td>23771610.0</td>\n",
       "    </tr>\n",
       "    <tr>\n",
       "      <th>2017-06-28</th>\n",
       "      <td>150.92</td>\n",
       "      <td>153.47</td>\n",
       "      <td>149.8600</td>\n",
       "      <td>153.24</td>\n",
       "      <td>16621566.0</td>\n",
       "      <td>0.0</td>\n",
       "      <td>1.0</td>\n",
       "      <td>150.92</td>\n",
       "      <td>153.47</td>\n",
       "      <td>149.8600</td>\n",
       "      <td>153.24</td>\n",
       "      <td>16621566.0</td>\n",
       "    </tr>\n",
       "    <tr>\n",
       "      <th>2017-06-27</th>\n",
       "      <td>152.84</td>\n",
       "      <td>153.31</td>\n",
       "      <td>150.3900</td>\n",
       "      <td>150.58</td>\n",
       "      <td>19274022.0</td>\n",
       "      <td>0.0</td>\n",
       "      <td>1.0</td>\n",
       "      <td>152.84</td>\n",
       "      <td>153.31</td>\n",
       "      <td>150.3900</td>\n",
       "      <td>150.58</td>\n",
       "      <td>19274022.0</td>\n",
       "    </tr>\n",
       "    <tr>\n",
       "      <th>2017-06-26</th>\n",
       "      <td>156.25</td>\n",
       "      <td>156.50</td>\n",
       "      <td>153.1954</td>\n",
       "      <td>153.59</td>\n",
       "      <td>17934289.0</td>\n",
       "      <td>0.0</td>\n",
       "      <td>1.0</td>\n",
       "      <td>156.25</td>\n",
       "      <td>156.50</td>\n",
       "      <td>153.1954</td>\n",
       "      <td>153.59</td>\n",
       "      <td>17934289.0</td>\n",
       "    </tr>\n",
       "  </tbody>\n",
       "</table>\n",
       "</div>"
      ],
      "text/plain": [
       "              Open    High       Low   Close      Volume  ExDividend  \\\n",
       "Date                                                                   \n",
       "2017-06-30  151.90  151.92  150.0600  150.98  14540013.0         0.0   \n",
       "2017-06-29  152.28  152.50  148.9175  151.04  23771610.0         0.0   \n",
       "2017-06-28  150.92  153.47  149.8600  153.24  16621566.0         0.0   \n",
       "2017-06-27  152.84  153.31  150.3900  150.58  19274022.0         0.0   \n",
       "2017-06-26  156.25  156.50  153.1954  153.59  17934289.0         0.0   \n",
       "\n",
       "            SplitRatio  AdjOpen  AdjHigh    AdjLow  AdjClose   AdjVolume  \n",
       "Date                                                                      \n",
       "2017-06-30         1.0   151.90   151.92  150.0600    150.98  14540013.0  \n",
       "2017-06-29         1.0   152.28   152.50  148.9175    151.04  23771610.0  \n",
       "2017-06-28         1.0   150.92   153.47  149.8600    153.24  16621566.0  \n",
       "2017-06-27         1.0   152.84   153.31  150.3900    150.58  19274022.0  \n",
       "2017-06-26         1.0   156.25   156.50  153.1954    153.59  17934289.0  "
      ]
     },
     "execution_count": 7,
     "metadata": {},
     "output_type": "execute_result"
    }
   ],
   "source": [
    "# Let's look at Facebook's stock price data:\n",
    "fb = pd.read_csv('fb_2012-7-31_2017-6-30.csv', parse_dates=['Date'], index_col=['Date'])\n",
    "fb.head()"
   ]
  },
  {
   "cell_type": "markdown",
   "metadata": {},
   "source": [
    "Quick look at the data to validate the following:\n",
    "- that the index is a DateTimeIndex and is set correctly to the Date values\n",
    "- the presence of the Null values"
   ]
  },
  {
   "cell_type": "code",
   "execution_count": 8,
   "metadata": {},
   "outputs": [
    {
     "name": "stdout",
     "output_type": "stream",
     "text": [
      "<class 'pandas.core.frame.DataFrame'>\n",
      "DatetimeIndex: 1238 entries, 2017-06-30 to 2012-07-31\n",
      "Data columns (total 12 columns):\n",
      "Open          1238 non-null float64\n",
      "High          1238 non-null float64\n",
      "Low           1238 non-null float64\n",
      "Close         1238 non-null float64\n",
      "Volume        1238 non-null float64\n",
      "ExDividend    1238 non-null float64\n",
      "SplitRatio    1238 non-null float64\n",
      "AdjOpen       1238 non-null float64\n",
      "AdjHigh       1238 non-null float64\n",
      "AdjLow        1238 non-null float64\n",
      "AdjClose      1238 non-null float64\n",
      "AdjVolume     1238 non-null float64\n",
      "dtypes: float64(12)\n",
      "memory usage: 125.7 KB\n"
     ]
    }
   ],
   "source": [
    "fb.info()"
   ]
  },
  {
   "cell_type": "markdown",
   "metadata": {},
   "source": [
    "**NOTE:** While reading the data from `.csv` files, we can read only one column, Adjusted Close, and create a time series with Date as an index and `AdjClose` as the only set of data points, instead of a dataframe containing all columns from the file. Let's see how this can be done:"
   ]
  },
  {
   "cell_type": "code",
   "execution_count": 9,
   "metadata": {},
   "outputs": [
    {
     "data": {
      "text/plain": [
       "Date\n",
       "2017-06-30    150.98\n",
       "2017-06-29    151.04\n",
       "2017-06-28    153.24\n",
       "2017-06-27    150.58\n",
       "2017-06-26    153.59\n",
       "Name: AdjClose, dtype: float64"
      ]
     },
     "execution_count": 9,
     "metadata": {},
     "output_type": "execute_result"
    }
   ],
   "source": [
    "# Reading FB data from the spreadsheet\n",
    "# Selecting only one column, Adj Close, setting Date to be index \n",
    "# and making sure that we get Series object back with squeeze=True\n",
    "\n",
    "fb = pd.read_csv('fb_2012-7-31_2017-6-30.csv', usecols=['Date','AdjClose'], parse_dates=['Date'], index_col = 'Date', squeeze=True)\n",
    "fb.head(5)"
   ]
  },
  {
   "cell_type": "code",
   "execution_count": 10,
   "metadata": {},
   "outputs": [
    {
     "data": {
      "text/plain": [
       "count    1238.000000\n",
       "mean       79.255041\n",
       "std        38.301620\n",
       "min        17.729000\n",
       "25%        48.642500\n",
       "50%        77.860000\n",
       "75%       112.387500\n",
       "max       155.070000\n",
       "Name: AdjClose, dtype: float64"
      ]
     },
     "execution_count": 10,
     "metadata": {},
     "output_type": "execute_result"
    }
   ],
   "source": [
    "fb.describe()"
   ]
  },
  {
   "cell_type": "code",
   "execution_count": 11,
   "metadata": {},
   "outputs": [
    {
     "data": {
      "text/plain": [
       "DatetimeIndex(['2017-06-30', '2017-06-29', '2017-06-28', '2017-06-27',\n",
       "               '2017-06-26', '2017-06-23', '2017-06-22', '2017-06-21',\n",
       "               '2017-06-20', '2017-06-19',\n",
       "               ...\n",
       "               '2012-08-13', '2012-08-10', '2012-08-09', '2012-08-08',\n",
       "               '2012-08-07', '2012-08-06', '2012-08-03', '2012-08-02',\n",
       "               '2012-08-01', '2012-07-31'],\n",
       "              dtype='datetime64[ns]', name='Date', length=1238, freq=None)"
      ]
     },
     "execution_count": 11,
     "metadata": {},
     "output_type": "execute_result"
    }
   ],
   "source": [
    "# Validate that the index is a DateTimeIndex\n",
    "fb.index"
   ]
  },
  {
   "cell_type": "markdown",
   "metadata": {},
   "source": [
    "---\n",
    "\n",
    "3. *(3 points)* Resample the data to get prices for the end of the **business** month. Select the **Adjusted Close** for each stock.\n",
    "\n",
    "---"
   ]
  },
  {
   "cell_type": "code",
   "execution_count": 12,
   "metadata": {},
   "outputs": [
    {
     "data": {
      "text/plain": [
       "Date\n",
       "2012-07-31    21.710\n",
       "2012-08-31    18.058\n",
       "2012-09-28    21.660\n",
       "2012-10-31    21.110\n",
       "2012-11-30    28.000\n",
       "Freq: BM, Name: AdjClose, dtype: float64"
      ]
     },
     "execution_count": 12,
     "metadata": {},
     "output_type": "execute_result"
    }
   ],
   "source": [
    "# To resample the time series to get the business month end:\n",
    "fb_monthend = fb.resample('BM').last()\n",
    "fb_monthend.head()"
   ]
  },
  {
   "cell_type": "markdown",
   "metadata": {},
   "source": [
    "Let's create times series for the remaining stocks, IBM, MMM, and AMZN:"
   ]
  },
  {
   "cell_type": "code",
   "execution_count": 13,
   "metadata": {},
   "outputs": [],
   "source": [
    "mmm = pd.read_csv('mmm_2012-7-31_2017-6-30.csv', usecols=['Date','AdjClose'], parse_dates=['Date'], index_col = 'Date', squeeze=True)\n",
    "ibm = pd.read_csv('ibm_2012-7-31_2017-6-30.csv', usecols=['Date','AdjClose'], parse_dates=['Date'], index_col = 'Date', squeeze=True)\n",
    "amzn = pd.read_csv('amzn_2012-7-31_2017-6-30.csv', usecols=['Date','AdjClose'], parse_dates=['Date'], index_col = 'Date', squeeze=True)"
   ]
  },
  {
   "cell_type": "code",
   "execution_count": 14,
   "metadata": {},
   "outputs": [
    {
     "data": {
      "text/plain": [
       "Date\n",
       "2012-07-31    80.117221\n",
       "2012-08-31    81.838026\n",
       "2012-09-28    81.678945\n",
       "2012-10-31    77.419126\n",
       "2012-11-30    80.912524\n",
       "Freq: BM, Name: AdjClose, dtype: float64"
      ]
     },
     "execution_count": 14,
     "metadata": {},
     "output_type": "execute_result"
    }
   ],
   "source": [
    "# Resampling all stocks to get the business month end data for each month:\n",
    "\n",
    "mmm_monthend = mmm.resample('BM').last()\n",
    "mmm_monthend.head()"
   ]
  },
  {
   "cell_type": "code",
   "execution_count": 15,
   "metadata": {},
   "outputs": [
    {
     "data": {
      "text/plain": [
       "Date\n",
       "2012-07-31    167.112403\n",
       "2012-08-31    166.858424\n",
       "2012-09-28    177.648345\n",
       "2012-10-31    166.584394\n",
       "2012-11-30    163.488846\n",
       "Freq: BM, Name: AdjClose, dtype: float64"
      ]
     },
     "execution_count": 15,
     "metadata": {},
     "output_type": "execute_result"
    }
   ],
   "source": [
    "ibm_monthend = ibm.resample('BM').last()\n",
    "ibm_monthend.head()"
   ]
  },
  {
   "cell_type": "code",
   "execution_count": 16,
   "metadata": {},
   "outputs": [
    {
     "data": {
      "text/plain": [
       "Date\n",
       "2012-07-31    233.3000\n",
       "2012-08-31    248.2700\n",
       "2012-09-28    254.3200\n",
       "2012-10-31    232.8931\n",
       "2012-11-30    252.0500\n",
       "Freq: BM, Name: AdjClose, dtype: float64"
      ]
     },
     "execution_count": 16,
     "metadata": {},
     "output_type": "execute_result"
    }
   ],
   "source": [
    "amzn_monthend = amzn.resample('BM').last()\n",
    "amzn_monthend.head()"
   ]
  },
  {
   "cell_type": "markdown",
   "metadata": {},
   "source": [
    "---\n",
    "\n",
    "4. *(3 points)* Use the pandas `autocorrelation_plot()` function to plot the autocorrelation of the adjusted month-end close prices for each of the stocks.\n",
    "    - Are they autocorrelated?\n",
    "    - Provide short explanation.\n",
    "\n",
    "\n",
    "---"
   ]
  },
  {
   "cell_type": "code",
   "execution_count": 17,
   "metadata": {},
   "outputs": [
    {
     "data": {
      "image/png": "[encoded data removed]",
      "text/plain": [
       "<Figure size 432x288 with 1 Axes>"
      ]
     },
     "metadata": {
      "needs_background": "light"
     },
     "output_type": "display_data"
    },
    {
     "data": {
      "image/png": "[encoded data removed]",
      "text/plain": [
       "<Figure size 432x288 with 1 Axes>"
      ]
     },
     "metadata": {
      "needs_background": "light"
     },
     "output_type": "display_data"
    },
    {
     "data": {
      "image/png": "[encoded data removed]",
      "text/plain": [
       "<Figure size 432x288 with 1 Axes>"
      ]
     },
     "metadata": {
      "needs_background": "light"
     },
     "output_type": "display_data"
    },
    {
     "data": {
      "image/png": "[encoded data removed]",
      "text/plain": [
       "<Figure size 432x288 with 1 Axes>"
      ]
     },
     "metadata": {
      "needs_background": "light"
     },
     "output_type": "display_data"
    }
   ],
   "source": [
    "# Plot the auto-correlation graph for each stock\n",
    "\n",
    "plt.figure()\n",
    "autocorrelation_plot(fb_monthend)\n",
    "plt.title('FB Autocorrelation')\n",
    "plt.figure()\n",
    "autocorrelation_plot(ibm_monthend)\n",
    "plt.title('IBM Autocorrelation')\n",
    "plt.figure()\n",
    "autocorrelation_plot(mmm_monthend)\n",
    "plt.title('MMM Autocorrelation Plot')\n",
    "plt.figure()\n",
    "autocorrelation_plot(amzn_monthend)\n",
    "plt.title('AMZN Autocorrelation')\n",
    "plt.show()"
   ]
  },
  {
   "cell_type": "markdown",
   "metadata": {},
   "source": [
    "We can see that recent months prices correlate well. Stocks for Facebook, Amazon, and 3M are autocorrelated the first 10 to 12 month. IBM stock is autocorrelated well the first 8 months. For all stocks, as we go back in time the correlation fades.\n",
    "\n",
    "**Explanation of the graphs:** The graph shows autocorrelation when the line is above the 95% (solid line) and 99% (dashed line) confidence bands. If the time series is random, the graph would be near zero for most of the time lags."
   ]
  },
  {
   "cell_type": "markdown",
   "metadata": {},
   "source": [
    "---\n",
    "\n",
    "5. *(4 points)* \n",
    "    - Calculate the monthly returns for each stock using the \"shift trick\" explained in the lecture, using `shift()` function. \n",
    "    - Use pandas `autotocorrelation_plot()` to plot the autocorrelation of the monthly returns.\n",
    "    - Are the returns autocorrelated? Provide short explanation.\n",
    "\n",
    "---"
   ]
  },
  {
   "cell_type": "code",
   "execution_count": 18,
   "metadata": {},
   "outputs": [
    {
     "data": {
      "text/plain": [
       "Date\n",
       "2012-07-31         NaN\n",
       "2012-08-31   -0.168217\n",
       "2012-09-28    0.199468\n",
       "2012-10-31   -0.025392\n",
       "2012-11-30    0.326386\n",
       "Freq: BM, Name: FB, dtype: float64"
      ]
     },
     "execution_count": 18,
     "metadata": {},
     "output_type": "execute_result"
    }
   ],
   "source": [
    "# Calculate monthly returns for each stock\n",
    "fb_returns = fb_monthend / fb_monthend.shift(1) - 1\n",
    "fb_returns.name = 'FB'\n",
    "fb_returns.head()"
   ]
  },
  {
   "cell_type": "code",
   "execution_count": 19,
   "metadata": {},
   "outputs": [
    {
     "data": {
      "text/plain": [
       "Date\n",
       "2012-07-31         NaN\n",
       "2012-08-31   -0.001520\n",
       "2012-09-28    0.064665\n",
       "2012-10-31   -0.062280\n",
       "2012-11-30   -0.018582\n",
       "Freq: BM, Name: IBM, dtype: float64"
      ]
     },
     "execution_count": 19,
     "metadata": {},
     "output_type": "execute_result"
    }
   ],
   "source": [
    "ibm_returns = ibm_monthend / ibm_monthend.shift(1) - 1\n",
    "ibm_returns.name = 'IBM'\n",
    "ibm_returns.head()"
   ]
  },
  {
   "cell_type": "code",
   "execution_count": 20,
   "metadata": {},
   "outputs": [
    {
     "data": {
      "text/plain": [
       "Date\n",
       "2012-07-31         NaN\n",
       "2012-08-31    0.021479\n",
       "2012-09-28   -0.001944\n",
       "2012-10-31   -0.052153\n",
       "2012-11-30    0.045123\n",
       "Freq: BM, Name: MMM, dtype: float64"
      ]
     },
     "execution_count": 20,
     "metadata": {},
     "output_type": "execute_result"
    }
   ],
   "source": [
    "mmm_returns = mmm_monthend / mmm_monthend.shift(1) - 1\n",
    "mmm_returns.name = 'MMM'\n",
    "mmm_returns.head()"
   ]
  },
  {
   "cell_type": "code",
   "execution_count": 21,
   "metadata": {},
   "outputs": [
    {
     "data": {
      "text/plain": [
       "Date\n",
       "2012-07-31         NaN\n",
       "2012-08-31    0.064166\n",
       "2012-09-28    0.024369\n",
       "2012-10-31   -0.084252\n",
       "2012-11-30    0.082256\n",
       "Freq: BM, Name: AMZN, dtype: float64"
      ]
     },
     "execution_count": 21,
     "metadata": {},
     "output_type": "execute_result"
    }
   ],
   "source": [
    "amzn_returns = amzn_monthend / amzn_monthend.shift(1) - 1\n",
    "amzn_returns.name = 'AMZN'\n",
    "amzn_returns.head()"
   ]
  },
  {
   "cell_type": "code",
   "execution_count": 22,
   "metadata": {},
   "outputs": [
    {
     "data": {
      "image/png": "[encoded data removed]",
      "text/plain": [
       "<Figure size 432x288 with 1 Axes>"
      ]
     },
     "metadata": {
      "needs_background": "light"
     },
     "output_type": "display_data"
    },
    {
     "data": {
      "image/png": "[encoded data removed]",
      "text/plain": [
       "<Figure size 432x288 with 1 Axes>"
      ]
     },
     "metadata": {
      "needs_background": "light"
     },
     "output_type": "display_data"
    },
    {
     "data": {
      "image/png": "[encoded data removed]",
      "text/plain": [
       "<Figure size 432x288 with 1 Axes>"
      ]
     },
     "metadata": {
      "needs_background": "light"
     },
     "output_type": "display_data"
    },
    {
     "data": {
      "image/png": "[encoded data removed]",
      "text/plain": [
       "<Figure size 432x288 with 1 Axes>"
      ]
     },
     "metadata": {
      "needs_background": "light"
     },
     "output_type": "display_data"
    }
   ],
   "source": [
    "# Plot the auto-correlation of the returns\n",
    "\n",
    "plt.figure()\n",
    "autocorrelation_plot(fb_returns.dropna())\n",
    "plt.title('Autocorrelation of FB Monthly Returns')\n",
    "plt.figure()\n",
    "autocorrelation_plot(ibm_returns.dropna())\n",
    "plt.title('Autocorrelation of IBM Monthly Returns')\n",
    "plt.figure()\n",
    "autocorrelation_plot(mmm_returns.dropna())\n",
    "plt.title('Autocorrelation of MMM Monthly Returns')\n",
    "plt.figure()\n",
    "autocorrelation_plot(amzn_returns.dropna())\n",
    "plt.title('Autocorrelation of AMZN Monthly Returns')\n",
    "plt.show()"
   ]
  },
  {
   "cell_type": "markdown",
   "metadata": {},
   "source": [
    "As we can see from the graphs above, the returns that we calculated are not auto-correlated. All graphs are well bellow the 95% confidence band. The returns are random.\n",
    "\n",
    "**NOTE:** After we used the `shift()` formula, the first row in time series, corresponding to the `2012-07-31` index became `NaN.` We have dropped these rows using `dropna()` function, otherwise the plots would have been empty. "
   ]
  },
  {
   "cell_type": "markdown",
   "metadata": {},
   "source": [
    "---\n",
    "\n",
    "6. *(3 points)*\n",
    "    - Combine all 4 time series (returns) into a single DataFrame,\n",
    "    - Visualize the correlation between the returns of all pairs of stocks using a scatter plot matrix (use `scatter_matrix()` function from `pandas.plotting`).\n",
    "    - Explain the results. Is there any correlation?\n",
    "\n",
    "---"
   ]
  },
  {
   "cell_type": "code",
   "execution_count": 23,
   "metadata": {},
   "outputs": [],
   "source": [
    "# Combine all 4 time series into a datafame for further analysis\n",
    "df_to_analyse = pd.concat([fb_returns, ibm_returns, mmm_returns, amzn_returns], join='outer', axis = 1)"
   ]
  },
  {
   "cell_type": "code",
   "execution_count": 24,
   "metadata": {},
   "outputs": [
    {
     "data": {
      "text/html": [
       "<div>\n",
       "<style scoped>\n",
       "    .dataframe tbody tr th:only-of-type {\n",
       "        vertical-align: middle;\n",
       "    }\n",
       "\n",
       "    .dataframe tbody tr th {\n",
       "        vertical-align: top;\n",
       "    }\n",
       "\n",
       "    .dataframe thead th {\n",
       "        text-align: right;\n",
       "    }\n",
       "</style>\n",
       "<table border=\"1\" class=\"dataframe\">\n",
       "  <thead>\n",
       "    <tr style=\"text-align: right;\">\n",
       "      <th></th>\n",
       "      <th>FB</th>\n",
       "      <th>IBM</th>\n",
       "      <th>MMM</th>\n",
       "      <th>AMZN</th>\n",
       "    </tr>\n",
       "    <tr>\n",
       "      <th>Date</th>\n",
       "      <th></th>\n",
       "      <th></th>\n",
       "      <th></th>\n",
       "      <th></th>\n",
       "    </tr>\n",
       "  </thead>\n",
       "  <tbody>\n",
       "    <tr>\n",
       "      <th>2012-08-31</th>\n",
       "      <td>-0.168217</td>\n",
       "      <td>-0.001520</td>\n",
       "      <td>0.021479</td>\n",
       "      <td>0.064166</td>\n",
       "    </tr>\n",
       "    <tr>\n",
       "      <th>2012-09-28</th>\n",
       "      <td>0.199468</td>\n",
       "      <td>0.064665</td>\n",
       "      <td>-0.001944</td>\n",
       "      <td>0.024369</td>\n",
       "    </tr>\n",
       "    <tr>\n",
       "      <th>2012-10-31</th>\n",
       "      <td>-0.025392</td>\n",
       "      <td>-0.062280</td>\n",
       "      <td>-0.052153</td>\n",
       "      <td>-0.084252</td>\n",
       "    </tr>\n",
       "    <tr>\n",
       "      <th>2012-11-30</th>\n",
       "      <td>0.326386</td>\n",
       "      <td>-0.018582</td>\n",
       "      <td>0.045123</td>\n",
       "      <td>0.082256</td>\n",
       "    </tr>\n",
       "    <tr>\n",
       "      <th>2012-12-31</th>\n",
       "      <td>-0.049296</td>\n",
       "      <td>0.007787</td>\n",
       "      <td>0.020891</td>\n",
       "      <td>-0.004682</td>\n",
       "    </tr>\n",
       "  </tbody>\n",
       "</table>\n",
       "</div>"
      ],
      "text/plain": [
       "                  FB       IBM       MMM      AMZN\n",
       "Date                                              \n",
       "2012-08-31 -0.168217 -0.001520  0.021479  0.064166\n",
       "2012-09-28  0.199468  0.064665 -0.001944  0.024369\n",
       "2012-10-31 -0.025392 -0.062280 -0.052153 -0.084252\n",
       "2012-11-30  0.326386 -0.018582  0.045123  0.082256\n",
       "2012-12-31 -0.049296  0.007787  0.020891 -0.004682"
      ]
     },
     "execution_count": 24,
     "metadata": {},
     "output_type": "execute_result"
    }
   ],
   "source": [
    "# Drop the first row with NAs\n",
    "df_to_analyse.dropna().head()"
   ]
  },
  {
   "cell_type": "code",
   "execution_count": 26,
   "metadata": {},
   "outputs": [
    {
     "data": {
      "image/png": "[encoded data removed]",
      "text/plain": [
       "<Figure size 720x720 with 16 Axes>"
      ]
     },
     "metadata": {
      "needs_background": "light"
     },
     "output_type": "display_data"
    }
   ],
   "source": [
    "# Scatter plot matrix\n",
    "scatter_matrix(df_to_analyse.dropna(), alpha=0.9, figsize=(10, 10), diagonal='hist');"
   ]
  },
  {
   "cell_type": "markdown",
   "metadata": {},
   "source": [
    "Scatter plot matrix allows us to quickly see any highly correlated variables or outliers. We can see from the matrix above:\n",
    "- The returns are not correlated with each other, we don't see any patterns in the scatter plots\n",
    "- We have also plotted the histogram of the individual returns in the diagonal cells, this was specified by the `diagonal='hist'` parameter."
   ]
  },
  {
   "cell_type": "markdown",
   "metadata": {},
   "source": [
    "---\n",
    "\n",
    "7. *(OPTIONAL, 2 bonus points)*\n",
    "    - Following the instructions in the article [The Glowing Python](https://glowingpython.blogspot.com/2012/10/visualizing-correlation-matrices.html), visualize the correlation of the returns of all pairs of stocks.\n",
    "    \n",
    "---"
   ]
  },
  {
   "cell_type": "code",
   "execution_count": 27,
   "metadata": {},
   "outputs": [
    {
     "data": {
      "text/html": [
       "<div>\n",
       "<style scoped>\n",
       "    .dataframe tbody tr th:only-of-type {\n",
       "        vertical-align: middle;\n",
       "    }\n",
       "\n",
       "    .dataframe tbody tr th {\n",
       "        vertical-align: top;\n",
       "    }\n",
       "\n",
       "    .dataframe thead th {\n",
       "        text-align: right;\n",
       "    }\n",
       "</style>\n",
       "<table border=\"1\" class=\"dataframe\">\n",
       "  <thead>\n",
       "    <tr style=\"text-align: right;\">\n",
       "      <th>Date</th>\n",
       "      <th>2012-08-31 00:00:00</th>\n",
       "      <th>2012-09-28 00:00:00</th>\n",
       "      <th>2012-10-31 00:00:00</th>\n",
       "      <th>2012-11-30 00:00:00</th>\n",
       "      <th>2012-12-31 00:00:00</th>\n",
       "      <th>2013-01-31 00:00:00</th>\n",
       "      <th>2013-02-28 00:00:00</th>\n",
       "      <th>2013-03-29 00:00:00</th>\n",
       "      <th>2013-04-30 00:00:00</th>\n",
       "      <th>2013-05-31 00:00:00</th>\n",
       "      <th>...</th>\n",
       "      <th>2016-09-30 00:00:00</th>\n",
       "      <th>2016-10-31 00:00:00</th>\n",
       "      <th>2016-11-30 00:00:00</th>\n",
       "      <th>2016-12-30 00:00:00</th>\n",
       "      <th>2017-01-31 00:00:00</th>\n",
       "      <th>2017-02-28 00:00:00</th>\n",
       "      <th>2017-03-31 00:00:00</th>\n",
       "      <th>2017-04-28 00:00:00</th>\n",
       "      <th>2017-05-31 00:00:00</th>\n",
       "      <th>2017-06-30 00:00:00</th>\n",
       "    </tr>\n",
       "  </thead>\n",
       "  <tbody>\n",
       "    <tr>\n",
       "      <th>FB</th>\n",
       "      <td>-0.168217</td>\n",
       "      <td>0.199468</td>\n",
       "      <td>-0.025392</td>\n",
       "      <td>0.326386</td>\n",
       "      <td>-0.049296</td>\n",
       "      <td>0.163837</td>\n",
       "      <td>-0.120429</td>\n",
       "      <td>-0.061284</td>\n",
       "      <td>0.085575</td>\n",
       "      <td>-0.123195</td>\n",
       "      <td>...</td>\n",
       "      <td>0.017047</td>\n",
       "      <td>0.021205</td>\n",
       "      <td>-0.095962</td>\n",
       "      <td>-0.028458</td>\n",
       "      <td>0.132725</td>\n",
       "      <td>0.040055</td>\n",
       "      <td>0.048030</td>\n",
       "      <td>0.057726</td>\n",
       "      <td>0.008053</td>\n",
       "      <td>-0.003169</td>\n",
       "    </tr>\n",
       "    <tr>\n",
       "      <th>IBM</th>\n",
       "      <td>-0.001520</td>\n",
       "      <td>0.064665</td>\n",
       "      <td>-0.062280</td>\n",
       "      <td>-0.018582</td>\n",
       "      <td>0.007787</td>\n",
       "      <td>0.060141</td>\n",
       "      <td>-0.006849</td>\n",
       "      <td>0.062092</td>\n",
       "      <td>-0.050445</td>\n",
       "      <td>0.031820</td>\n",
       "      <td>...</td>\n",
       "      <td>-0.000189</td>\n",
       "      <td>-0.032483</td>\n",
       "      <td>0.065024</td>\n",
       "      <td>0.023240</td>\n",
       "      <td>0.051389</td>\n",
       "      <td>0.038557</td>\n",
       "      <td>-0.031587</td>\n",
       "      <td>-0.079534</td>\n",
       "      <td>-0.038455</td>\n",
       "      <td>0.007862</td>\n",
       "    </tr>\n",
       "    <tr>\n",
       "      <th>MMM</th>\n",
       "      <td>0.021479</td>\n",
       "      <td>-0.001944</td>\n",
       "      <td>-0.052153</td>\n",
       "      <td>0.045123</td>\n",
       "      <td>0.020891</td>\n",
       "      <td>0.082929</td>\n",
       "      <td>0.040697</td>\n",
       "      <td>0.022212</td>\n",
       "      <td>-0.015050</td>\n",
       "      <td>0.059135</td>\n",
       "      <td>...</td>\n",
       "      <td>-0.016793</td>\n",
       "      <td>-0.062021</td>\n",
       "      <td>0.045664</td>\n",
       "      <td>0.039769</td>\n",
       "      <td>-0.021000</td>\n",
       "      <td>0.072847</td>\n",
       "      <td>0.026724</td>\n",
       "      <td>0.023520</td>\n",
       "      <td>0.050417</td>\n",
       "      <td>0.018193</td>\n",
       "    </tr>\n",
       "    <tr>\n",
       "      <th>AMZN</th>\n",
       "      <td>0.064166</td>\n",
       "      <td>0.024369</td>\n",
       "      <td>-0.084252</td>\n",
       "      <td>0.082256</td>\n",
       "      <td>-0.004682</td>\n",
       "      <td>0.058317</td>\n",
       "      <td>-0.004633</td>\n",
       "      <td>0.008400</td>\n",
       "      <td>-0.047582</td>\n",
       "      <td>0.060636</td>\n",
       "      <td>...</td>\n",
       "      <td>0.088603</td>\n",
       "      <td>-0.056717</td>\n",
       "      <td>-0.049695</td>\n",
       "      <td>-0.000933</td>\n",
       "      <td>0.098164</td>\n",
       "      <td>0.026182</td>\n",
       "      <td>0.049110</td>\n",
       "      <td>0.043371</td>\n",
       "      <td>0.075276</td>\n",
       "      <td>-0.026764</td>\n",
       "    </tr>\n",
       "  </tbody>\n",
       "</table>\n",
       "<p>4 rows × 59 columns</p>\n",
       "</div>"
      ],
      "text/plain": [
       "Date  2012-08-31  2012-09-28  2012-10-31  2012-11-30  2012-12-31  2013-01-31  \\\n",
       "FB     -0.168217    0.199468   -0.025392    0.326386   -0.049296    0.163837   \n",
       "IBM    -0.001520    0.064665   -0.062280   -0.018582    0.007787    0.060141   \n",
       "MMM     0.021479   -0.001944   -0.052153    0.045123    0.020891    0.082929   \n",
       "AMZN    0.064166    0.024369   -0.084252    0.082256   -0.004682    0.058317   \n",
       "\n",
       "Date  2013-02-28  2013-03-29  2013-04-30  2013-05-31     ...      2016-09-30  \\\n",
       "FB     -0.120429   -0.061284    0.085575   -0.123195     ...        0.017047   \n",
       "IBM    -0.006849    0.062092   -0.050445    0.031820     ...       -0.000189   \n",
       "MMM     0.040697    0.022212   -0.015050    0.059135     ...       -0.016793   \n",
       "AMZN   -0.004633    0.008400   -0.047582    0.060636     ...        0.088603   \n",
       "\n",
       "Date  2016-10-31  2016-11-30  2016-12-30  2017-01-31  2017-02-28  2017-03-31  \\\n",
       "FB      0.021205   -0.095962   -0.028458    0.132725    0.040055    0.048030   \n",
       "IBM    -0.032483    0.065024    0.023240    0.051389    0.038557   -0.031587   \n",
       "MMM    -0.062021    0.045664    0.039769   -0.021000    0.072847    0.026724   \n",
       "AMZN   -0.056717   -0.049695   -0.000933    0.098164    0.026182    0.049110   \n",
       "\n",
       "Date  2017-04-28  2017-05-31  2017-06-30  \n",
       "FB      0.057726    0.008053   -0.003169  \n",
       "IBM    -0.079534   -0.038455    0.007862  \n",
       "MMM     0.023520    0.050417    0.018193  \n",
       "AMZN    0.043371    0.075276   -0.026764  \n",
       "\n",
       "[4 rows x 59 columns]"
      ]
     },
     "execution_count": 27,
     "metadata": {},
     "output_type": "execute_result"
    }
   ],
   "source": [
    "# Transpose the dataframe in preparation for plotting\n",
    "df_to_analyse_t = df_to_analyse.T\n",
    "df_to_analyse_t.dropna(axis=1,how='all')"
   ]
  },
  {
   "cell_type": "code",
   "execution_count": 28,
   "metadata": {},
   "outputs": [],
   "source": [
    "corr_plt = df_to_analyse_t.dropna(axis=1,how='all').values"
   ]
  },
  {
   "cell_type": "code",
   "execution_count": 29,
   "metadata": {},
   "outputs": [
    {
     "data": {
      "image/png": "[encoded data removed]",
      "text/plain": [
       "<Figure size 432x288 with 2 Axes>"
      ]
     },
     "metadata": {
      "needs_background": "light"
     },
     "output_type": "display_data"
    }
   ],
   "source": [
    "# Plot the correlation of the returns\n",
    "from numpy import corrcoef, sum, log, arange\n",
    "from pylab import pcolor, show, colorbar, xticks, yticks\n",
    "\n",
    "R = corrcoef(corr_plt)\n",
    "pcolor(R)\n",
    "colorbar()\n",
    "yticks(arange(0.5,4),['FB', 'IBM', 'MMM', 'AMZN'])\n",
    "xticks(arange(0.5,4),['FB', 'IBM', 'MMM', 'AMZN'])\n",
    "show()"
   ]
  },
  {
   "cell_type": "markdown",
   "metadata": {
    "collapsed": true
   },
   "source": [
    "We can see along the diagonal that the stocks' returns are perfectly correlated with themselves as we'd expect.  The rest of the matrix shows that the stock returns are not correlated."
   ]
  }
 ],
 "metadata": {
  "kernelspec": {
   "display_name": "Python 3",
   "language": "python",
   "name": "python3"
  },
  "language_info": {
   "codemirror_mode": {
    "name": "ipython",
    "version": 3
   },
   "file_extension": ".py",
   "mimetype": "text/x-python",
   "name": "python",
   "nbconvert_exporter": "python",
   "pygments_lexer": "ipython3",
   "version": "3.7.3"
  },
  "toc": {
   "base_numbering": 1,
   "nav_menu": {},
   "number_sections": false,
   "sideBar": true,
   "skip_h1_title": false,
   "title_cell": "Table of Contents",
   "title_sidebar": "Contents",
   "toc_cell": false,
   "toc_position": {},
   "toc_section_display": true,
   "toc_window_display": false
  }
 },
 "nbformat": 4,
 "nbformat_minor": 1
}
