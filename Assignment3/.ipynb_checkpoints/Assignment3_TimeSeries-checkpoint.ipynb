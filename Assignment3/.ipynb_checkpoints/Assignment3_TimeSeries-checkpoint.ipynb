{
 "cells": [
  {
   "cell_type": "markdown",
   "metadata": {},
   "source": [
    "Before you turn this problem in, make sure everything runs as expected. First, **restart the kernel** (in the menu bar, select Kernel$\\rightarrow$Restart) and then **run all cells** (in the menu bar, select Cell$\\rightarrow$Run All)."
   ]
  },
  {
   "cell_type": "markdown",
   "metadata": {},
   "source": [
    "# Assignment 3 - Time Series Analysis\n",
    "**(15 points total)**"
   ]
  },
  {
   "cell_type": "markdown",
   "metadata": {},
   "source": [
    "## Assignment tasks:"
   ]
  },
  {
   "cell_type": "markdown",
   "metadata": {},
   "source": [
    "In this assignment you will conduct time series analysis of the financial data. \n",
    "\n",
    "1. Setup your environment to access and download latest stock data. Please see instructions below for different tools you can use to get the data. You can use any of the options provided, either Quandl or Yahoo Finance. If you know of any other service to download the data, please use that service, provide an explanation in the comments.\n",
    "\n",
    "2. *(2 points)* Download the **adjusted** close prices for FB, MMM, IBM and AMZN for the last 60 months. If you run into any issues downloading the data from online sources, you can use `.csv` files provided. This will not affect your grade for the assignment.\n",
    "\n",
    "3. *(3 points)* Resample the data to get prices for the end of the **business** month. Select the **Adjusted Close** for each stock.\n",
    "\n",
    "4. *(3 points)* Use the pandas `autocorrelation_plot()` function to plot the autocorrelation of the adjusted month-end close prices for each of the stocks.\n",
    "    - Are they autocorrelated?\n",
    "    - Provide short explanation.\n",
    "\n",
    "5. *(4 points)* \n",
    "    - Calculate the monthly returns for each stock using the \"shift trick\" explained in the lecture, using `shift()` function. \n",
    "    - Use pandas `autotocorrelation_plot()` to plot the autocorrelation of the monthly returns.\n",
    "    - Are the returns autocorrelated? Provide short explanation.\n",
    "\n",
    "6. *(3 points)*\n",
    "    - Combine all 4 time series (returns) into a single DataFrame,\n",
    "    - Visualize the correlation between the returns of all pairs of stocks using a scatter plot matrix (use `scatter_matrix()` function from `pandas.plotting`).\n",
    "    - Explain the results. Is there any correlation?\n",
    "    \n",
    "7. *(OPTIONAL, 2 bonus points)*\n",
    "    - Following the instructions in the article [The Glowing Python](https://glowingpython.blogspot.com/2012/10/visualizing-correlation-matrices.html), visualize the correlation of the returns of all pairs of stocks.\n",
    "\n",
    "**NOTES:** \n",
    "1. In this assignment, please make sure the DataFrame(s) do not contain any NAs before you plot autocorrelations or scatter matrix.\n",
    "2. Both options explained below use `pandas-datareader` package for remote data access. To install it, type the following in a command window: `conda install pandas-datareader`. You will also need to install one or more of the following packages `fix_yahoo_finance`, `quandl`. See below.\n",
    "\n",
    "---------"
   ]
  },
  {
   "cell_type": "markdown",
   "metadata": {},
   "source": [
    "## Downloading Stock Prices"
   ]
  },
  {
   "cell_type": "markdown",
   "metadata": {},
   "source": [
    "### Option 1 - Using QUANDL"
   ]
  },
  {
   "cell_type": "markdown",
   "metadata": {},
   "source": [
    "To use QUANDL service, you need to create an account and get an API Key. Here is the short description of steps:\n",
    "\n",
    "- Go to https://www.quandl.com/\n",
    "- Click either `sign up` at the top right corner of the home page, or scroll all the way down and click `Create Free Account` button at the bottom of the page.\n",
    "- Create an account. \n",
    "- You will receive an email to the email address you have used during the registration. Confirm your email.\n",
    "\n",
    "You are all set.\n",
    "\n",
    "Now, as you login into your account, click the avatar icon at the top right corner of the page, select `\"Account Settings.\"`\n",
    "On the next page, you will see `Your API Key` field with a long string of numbers and characters underneath. You need this API key for your call to Quandl from the notebook. In the code below, replace `YOUR_API_KEY` with the actual API key from your account. \n",
    "\n",
    "**NOTE**: You can remove this key before submitting the assignment."
   ]
  },
  {
   "cell_type": "markdown",
   "metadata": {},
   "source": [
    "### Option 2 - Using Yahoo Finance `fix_yahoo_finance` library"
   ]
  },
  {
   "cell_type": "code",
   "execution_count": 1,
   "metadata": {
    "scrolled": true
   },
   "outputs": [],
   "source": [
    "import yfinance as yf\n",
    "from pandas_datareader import data as pdr\n",
    "import pandas as pd\n",
    "import datetime\n",
    "import matplotlib.pyplot as plt\n",
    "from statsmodels.graphics import tsaplots\n",
    "%matplotlib inline\n",
    "import warnings\n",
    "warnings.filterwarnings(\"ignore\")\n",
    "from pandas.plotting import autocorrelation_plot\n",
    "from pandas.plotting import scatter_matrix"
   ]
  },
  {
   "cell_type": "code",
   "execution_count": 2,
   "metadata": {
    "scrolled": true
   },
   "outputs": [
    {
     "name": "stdout",
     "output_type": "stream",
     "text": [
      "[*********************100%***********************]  4 of 4 downloaded\n"
     ]
    }
   ],
   "source": [
    "yf.pdr_override()\n",
    "\n",
    "start = datetime.datetime(2014, 7, 1)\n",
    "end = datetime.datetime(2019, 7, 1)\n",
    "\n",
    "stocks_list = ['AMZN', 'FB', 'MMM', 'IBM']\n",
    "stocks = yf.download(stocks_list, start = start, end = end)"
   ]
  },
  {
   "cell_type": "code",
   "execution_count": 3,
   "metadata": {
    "scrolled": true
   },
   "outputs": [
    {
     "data": {
      "text/html": [
       "<div>\n",
       "<style scoped>\n",
       "    .dataframe tbody tr th:only-of-type {\n",
       "        vertical-align: middle;\n",
       "    }\n",
       "\n",
       "    .dataframe tbody tr th {\n",
       "        vertical-align: top;\n",
       "    }\n",
       "\n",
       "    .dataframe thead tr th {\n",
       "        text-align: left;\n",
       "    }\n",
       "\n",
       "    .dataframe thead tr:last-of-type th {\n",
       "        text-align: right;\n",
       "    }\n",
       "</style>\n",
       "<table border=\"1\" class=\"dataframe\">\n",
       "  <thead>\n",
       "    <tr>\n",
       "      <th></th>\n",
       "      <th colspan=\"4\" halign=\"left\">Adj Close</th>\n",
       "      <th colspan=\"4\" halign=\"left\">Close</th>\n",
       "      <th colspan=\"4\" halign=\"left\">High</th>\n",
       "      <th colspan=\"4\" halign=\"left\">Low</th>\n",
       "      <th colspan=\"4\" halign=\"left\">Open</th>\n",
       "      <th colspan=\"4\" halign=\"left\">Volume</th>\n",
       "    </tr>\n",
       "    <tr>\n",
       "      <th></th>\n",
       "      <th>AMZN</th>\n",
       "      <th>FB</th>\n",
       "      <th>IBM</th>\n",
       "      <th>MMM</th>\n",
       "      <th>AMZN</th>\n",
       "      <th>FB</th>\n",
       "      <th>IBM</th>\n",
       "      <th>MMM</th>\n",
       "      <th>AMZN</th>\n",
       "      <th>FB</th>\n",
       "      <th>IBM</th>\n",
       "      <th>MMM</th>\n",
       "      <th>AMZN</th>\n",
       "      <th>FB</th>\n",
       "      <th>IBM</th>\n",
       "      <th>MMM</th>\n",
       "      <th>AMZN</th>\n",
       "      <th>FB</th>\n",
       "      <th>IBM</th>\n",
       "      <th>MMM</th>\n",
       "      <th>AMZN</th>\n",
       "      <th>FB</th>\n",
       "      <th>IBM</th>\n",
       "      <th>MMM</th>\n",
       "    </tr>\n",
       "    <tr>\n",
       "      <th>Date</th>\n",
       "      <th></th>\n",
       "      <th></th>\n",
       "      <th></th>\n",
       "      <th></th>\n",
       "      <th></th>\n",
       "      <th></th>\n",
       "      <th></th>\n",
       "      <th></th>\n",
       "      <th></th>\n",
       "      <th></th>\n",
       "      <th></th>\n",
       "      <th></th>\n",
       "      <th></th>\n",
       "      <th></th>\n",
       "      <th></th>\n",
       "      <th></th>\n",
       "      <th></th>\n",
       "      <th></th>\n",
       "      <th></th>\n",
       "      <th></th>\n",
       "      <th></th>\n",
       "      <th></th>\n",
       "      <th></th>\n",
       "      <th></th>\n",
       "    </tr>\n",
       "  </thead>\n",
       "  <tbody>\n",
       "    <tr>\n",
       "      <th>2014-07-01</th>\n",
       "      <td>332.39</td>\n",
       "      <td>68.06</td>\n",
       "      <td>150.02</td>\n",
       "      <td>125.97</td>\n",
       "      <td>332.39</td>\n",
       "      <td>68.06</td>\n",
       "      <td>186.35</td>\n",
       "      <td>144.56</td>\n",
       "      <td>333.20</td>\n",
       "      <td>68.44</td>\n",
       "      <td>187.27</td>\n",
       "      <td>144.82</td>\n",
       "      <td>325.10</td>\n",
       "      <td>67.39</td>\n",
       "      <td>181.70</td>\n",
       "      <td>143.38</td>\n",
       "      <td>325.86</td>\n",
       "      <td>67.58</td>\n",
       "      <td>181.70</td>\n",
       "      <td>143.41</td>\n",
       "      <td>3173600</td>\n",
       "      <td>33243000</td>\n",
       "      <td>6643100</td>\n",
       "      <td>1767600</td>\n",
       "    </tr>\n",
       "    <tr>\n",
       "      <th>2014-07-02</th>\n",
       "      <td>332.85</td>\n",
       "      <td>66.45</td>\n",
       "      <td>151.66</td>\n",
       "      <td>126.56</td>\n",
       "      <td>332.85</td>\n",
       "      <td>66.45</td>\n",
       "      <td>188.39</td>\n",
       "      <td>145.23</td>\n",
       "      <td>336.76</td>\n",
       "      <td>68.30</td>\n",
       "      <td>188.99</td>\n",
       "      <td>145.30</td>\n",
       "      <td>331.66</td>\n",
       "      <td>65.79</td>\n",
       "      <td>186.17</td>\n",
       "      <td>143.56</td>\n",
       "      <td>333.20</td>\n",
       "      <td>68.04</td>\n",
       "      <td>186.34</td>\n",
       "      <td>144.23</td>\n",
       "      <td>2681300</td>\n",
       "      <td>41895000</td>\n",
       "      <td>5093000</td>\n",
       "      <td>1621300</td>\n",
       "    </tr>\n",
       "  </tbody>\n",
       "</table>\n",
       "</div>"
      ],
      "text/plain": [
       "           Adj Close                          Close                         \\\n",
       "                AMZN     FB     IBM     MMM    AMZN     FB     IBM     MMM   \n",
       "Date                                                                         \n",
       "2014-07-01    332.39  68.06  150.02  125.97  332.39  68.06  186.35  144.56   \n",
       "2014-07-02    332.85  66.45  151.66  126.56  332.85  66.45  188.39  145.23   \n",
       "\n",
       "              High                            Low                         \\\n",
       "              AMZN     FB     IBM     MMM    AMZN     FB     IBM     MMM   \n",
       "Date                                                                       \n",
       "2014-07-01  333.20  68.44  187.27  144.82  325.10  67.39  181.70  143.38   \n",
       "2014-07-02  336.76  68.30  188.99  145.30  331.66  65.79  186.17  143.56   \n",
       "\n",
       "              Open                          Volume                              \n",
       "              AMZN     FB     IBM     MMM     AMZN        FB      IBM      MMM  \n",
       "Date                                                                            \n",
       "2014-07-01  325.86  67.58  181.70  143.41  3173600  33243000  6643100  1767600  \n",
       "2014-07-02  333.20  68.04  186.34  144.23  2681300  41895000  5093000  1621300  "
      ]
     },
     "execution_count": 3,
     "metadata": {},
     "output_type": "execute_result"
    }
   ],
   "source": [
    "pd.options.display.max_columns = 24\n",
    "stocks.head(2)"
   ]
  },
  {
   "cell_type": "code",
   "execution_count": 4,
   "metadata": {
    "scrolled": true
   },
   "outputs": [
    {
     "name": "stdout",
     "output_type": "stream",
     "text": [
      "<class 'pandas.core.frame.DataFrame'>\n",
      "DatetimeIndex: 1259 entries, 2014-07-01 to 2019-07-01\n",
      "Data columns (total 24 columns):\n",
      "(Adj Close, AMZN)    1259 non-null float64\n",
      "(Adj Close, FB)      1259 non-null float64\n",
      "(Adj Close, IBM)     1259 non-null float64\n",
      "(Adj Close, MMM)     1259 non-null float64\n",
      "(Close, AMZN)        1259 non-null float64\n",
      "(Close, FB)          1259 non-null float64\n",
      "(Close, IBM)         1259 non-null float64\n",
      "(Close, MMM)         1259 non-null float64\n",
      "(High, AMZN)         1259 non-null float64\n",
      "(High, FB)           1259 non-null float64\n",
      "(High, IBM)          1259 non-null float64\n",
      "(High, MMM)          1259 non-null float64\n",
      "(Low, AMZN)          1259 non-null float64\n",
      "(Low, FB)            1259 non-null float64\n",
      "(Low, IBM)           1259 non-null float64\n",
      "(Low, MMM)           1259 non-null float64\n",
      "(Open, AMZN)         1259 non-null float64\n",
      "(Open, FB)           1259 non-null float64\n",
      "(Open, IBM)          1259 non-null float64\n",
      "(Open, MMM)          1259 non-null float64\n",
      "(Volume, AMZN)       1259 non-null int64\n",
      "(Volume, FB)         1259 non-null int64\n",
      "(Volume, IBM)        1259 non-null int64\n",
      "(Volume, MMM)        1259 non-null int64\n",
      "dtypes: float64(20), int64(4)\n",
      "memory usage: 245.9 KB\n"
     ]
    }
   ],
   "source": [
    "stocks.info()"
   ]
  },
  {
   "cell_type": "code",
   "execution_count": 5,
   "metadata": {
    "scrolled": true
   },
   "outputs": [
    {
     "data": {
      "text/html": [
       "<div>\n",
       "<style scoped>\n",
       "    .dataframe tbody tr th:only-of-type {\n",
       "        vertical-align: middle;\n",
       "    }\n",
       "\n",
       "    .dataframe tbody tr th {\n",
       "        vertical-align: top;\n",
       "    }\n",
       "\n",
       "    .dataframe thead tr th {\n",
       "        text-align: left;\n",
       "    }\n",
       "</style>\n",
       "<table border=\"1\" class=\"dataframe\">\n",
       "  <thead>\n",
       "    <tr>\n",
       "      <th></th>\n",
       "      <th colspan=\"4\" halign=\"left\">Adj Close</th>\n",
       "      <th colspan=\"4\" halign=\"left\">Close</th>\n",
       "      <th colspan=\"4\" halign=\"left\">High</th>\n",
       "      <th colspan=\"4\" halign=\"left\">Low</th>\n",
       "      <th colspan=\"4\" halign=\"left\">Open</th>\n",
       "      <th colspan=\"4\" halign=\"left\">Volume</th>\n",
       "    </tr>\n",
       "    <tr>\n",
       "      <th></th>\n",
       "      <th>AMZN</th>\n",
       "      <th>FB</th>\n",
       "      <th>IBM</th>\n",
       "      <th>MMM</th>\n",
       "      <th>AMZN</th>\n",
       "      <th>FB</th>\n",
       "      <th>IBM</th>\n",
       "      <th>MMM</th>\n",
       "      <th>AMZN</th>\n",
       "      <th>FB</th>\n",
       "      <th>IBM</th>\n",
       "      <th>MMM</th>\n",
       "      <th>AMZN</th>\n",
       "      <th>FB</th>\n",
       "      <th>IBM</th>\n",
       "      <th>MMM</th>\n",
       "      <th>AMZN</th>\n",
       "      <th>FB</th>\n",
       "      <th>IBM</th>\n",
       "      <th>MMM</th>\n",
       "      <th>AMZN</th>\n",
       "      <th>FB</th>\n",
       "      <th>IBM</th>\n",
       "      <th>MMM</th>\n",
       "    </tr>\n",
       "  </thead>\n",
       "  <tbody>\n",
       "    <tr>\n",
       "      <th>count</th>\n",
       "      <td>1259.000000</td>\n",
       "      <td>1259.000000</td>\n",
       "      <td>1259.00000</td>\n",
       "      <td>1259.000000</td>\n",
       "      <td>1259.000000</td>\n",
       "      <td>1259.000000</td>\n",
       "      <td>1259.000000</td>\n",
       "      <td>1259.000000</td>\n",
       "      <td>1259.000000</td>\n",
       "      <td>1259.000000</td>\n",
       "      <td>1259.000000</td>\n",
       "      <td>1259.000000</td>\n",
       "      <td>1259.000000</td>\n",
       "      <td>1259.000000</td>\n",
       "      <td>1259.000000</td>\n",
       "      <td>1259.000000</td>\n",
       "      <td>1259.000000</td>\n",
       "      <td>1259.000000</td>\n",
       "      <td>1259.000000</td>\n",
       "      <td>1259.000000</td>\n",
       "      <td>1.259000e+03</td>\n",
       "      <td>1.259000e+03</td>\n",
       "      <td>1.259000e+03</td>\n",
       "      <td>1.259000e+03</td>\n",
       "    </tr>\n",
       "    <tr>\n",
       "      <th>mean</th>\n",
       "      <td>964.178284</td>\n",
       "      <td>131.219738</td>\n",
       "      <td>135.54251</td>\n",
       "      <td>169.896982</td>\n",
       "      <td>964.178284</td>\n",
       "      <td>131.219738</td>\n",
       "      <td>152.927331</td>\n",
       "      <td>182.279373</td>\n",
       "      <td>973.676632</td>\n",
       "      <td>132.486180</td>\n",
       "      <td>153.996465</td>\n",
       "      <td>183.444361</td>\n",
       "      <td>953.762248</td>\n",
       "      <td>129.815616</td>\n",
       "      <td>151.865338</td>\n",
       "      <td>180.975703</td>\n",
       "      <td>964.509095</td>\n",
       "      <td>131.166299</td>\n",
       "      <td>152.932621</td>\n",
       "      <td>182.236942</td>\n",
       "      <td>4.262105e+06</td>\n",
       "      <td>2.473897e+07</td>\n",
       "      <td>4.440818e+06</td>\n",
       "      <td>2.318927e+06</td>\n",
       "    </tr>\n",
       "    <tr>\n",
       "      <th>std</th>\n",
       "      <td>523.790005</td>\n",
       "      <td>39.186009</td>\n",
       "      <td>11.69796</td>\n",
       "      <td>30.539279</td>\n",
       "      <td>523.790005</td>\n",
       "      <td>39.186009</td>\n",
       "      <td>16.291166</td>\n",
       "      <td>27.665719</td>\n",
       "      <td>529.544254</td>\n",
       "      <td>39.508962</td>\n",
       "      <td>16.262706</td>\n",
       "      <td>27.935093</td>\n",
       "      <td>517.691394</td>\n",
       "      <td>38.823024</td>\n",
       "      <td>16.327298</td>\n",
       "      <td>27.416398</td>\n",
       "      <td>524.395463</td>\n",
       "      <td>39.156205</td>\n",
       "      <td>16.296246</td>\n",
       "      <td>27.728488</td>\n",
       "      <td>2.329250e+06</td>\n",
       "      <td>1.498600e+07</td>\n",
       "      <td>2.601262e+06</td>\n",
       "      <td>1.086868e+06</td>\n",
       "    </tr>\n",
       "    <tr>\n",
       "      <th>min</th>\n",
       "      <td>286.950000</td>\n",
       "      <td>62.760000</td>\n",
       "      <td>101.01000</td>\n",
       "      <td>116.500000</td>\n",
       "      <td>286.950000</td>\n",
       "      <td>62.760000</td>\n",
       "      <td>107.570000</td>\n",
       "      <td>132.900000</td>\n",
       "      <td>290.420000</td>\n",
       "      <td>65.120000</td>\n",
       "      <td>111.000000</td>\n",
       "      <td>134.640000</td>\n",
       "      <td>284.000000</td>\n",
       "      <td>62.210000</td>\n",
       "      <td>105.940000</td>\n",
       "      <td>130.600000</td>\n",
       "      <td>284.400000</td>\n",
       "      <td>63.310000</td>\n",
       "      <td>108.000000</td>\n",
       "      <td>132.560000</td>\n",
       "      <td>1.091200e+06</td>\n",
       "      <td>5.913100e+06</td>\n",
       "      <td>1.193000e+06</td>\n",
       "      <td>6.510000e+05</td>\n",
       "    </tr>\n",
       "    <tr>\n",
       "      <th>25%</th>\n",
       "      <td>533.040000</td>\n",
       "      <td>94.710000</td>\n",
       "      <td>129.94500</td>\n",
       "      <td>142.820000</td>\n",
       "      <td>533.040000</td>\n",
       "      <td>94.710000</td>\n",
       "      <td>143.040000</td>\n",
       "      <td>159.850000</td>\n",
       "      <td>539.170000</td>\n",
       "      <td>95.945000</td>\n",
       "      <td>144.190000</td>\n",
       "      <td>160.720000</td>\n",
       "      <td>526.030000</td>\n",
       "      <td>93.610000</td>\n",
       "      <td>142.290000</td>\n",
       "      <td>158.825000</td>\n",
       "      <td>532.515000</td>\n",
       "      <td>94.910000</td>\n",
       "      <td>143.085000</td>\n",
       "      <td>159.780000</td>\n",
       "      <td>2.780000e+06</td>\n",
       "      <td>1.560770e+07</td>\n",
       "      <td>3.072350e+06</td>\n",
       "      <td>1.684450e+06</td>\n",
       "    </tr>\n",
       "    <tr>\n",
       "      <th>50%</th>\n",
       "      <td>817.690000</td>\n",
       "      <td>129.050000</td>\n",
       "      <td>135.96000</td>\n",
       "      <td>165.350000</td>\n",
       "      <td>817.690000</td>\n",
       "      <td>129.050000</td>\n",
       "      <td>152.500000</td>\n",
       "      <td>177.710000</td>\n",
       "      <td>821.480000</td>\n",
       "      <td>129.940000</td>\n",
       "      <td>153.500000</td>\n",
       "      <td>178.550000</td>\n",
       "      <td>811.680000</td>\n",
       "      <td>128.200000</td>\n",
       "      <td>151.620000</td>\n",
       "      <td>176.830000</td>\n",
       "      <td>815.700000</td>\n",
       "      <td>129.130000</td>\n",
       "      <td>152.480000</td>\n",
       "      <td>177.480000</td>\n",
       "      <td>3.639900e+06</td>\n",
       "      <td>2.077400e+07</td>\n",
       "      <td>3.794900e+06</td>\n",
       "      <td>2.055600e+06</td>\n",
       "    </tr>\n",
       "    <tr>\n",
       "      <th>75%</th>\n",
       "      <td>1496.305000</td>\n",
       "      <td>168.375000</td>\n",
       "      <td>142.09000</td>\n",
       "      <td>195.455000</td>\n",
       "      <td>1496.305000</td>\n",
       "      <td>168.375000</td>\n",
       "      <td>161.930000</td>\n",
       "      <td>204.365000</td>\n",
       "      <td>1521.800000</td>\n",
       "      <td>169.780000</td>\n",
       "      <td>162.855000</td>\n",
       "      <td>205.480000</td>\n",
       "      <td>1476.060000</td>\n",
       "      <td>166.555000</td>\n",
       "      <td>160.905000</td>\n",
       "      <td>202.355000</td>\n",
       "      <td>1490.200000</td>\n",
       "      <td>168.185000</td>\n",
       "      <td>161.935000</td>\n",
       "      <td>203.945000</td>\n",
       "      <td>4.928000e+06</td>\n",
       "      <td>2.867800e+07</td>\n",
       "      <td>4.899050e+06</td>\n",
       "      <td>2.624250e+06</td>\n",
       "    </tr>\n",
       "    <tr>\n",
       "      <th>max</th>\n",
       "      <td>2039.510000</td>\n",
       "      <td>217.500000</td>\n",
       "      <td>163.07000</td>\n",
       "      <td>245.840000</td>\n",
       "      <td>2039.510000</td>\n",
       "      <td>217.500000</td>\n",
       "      <td>195.780000</td>\n",
       "      <td>258.630000</td>\n",
       "      <td>2050.500000</td>\n",
       "      <td>218.620000</td>\n",
       "      <td>196.400000</td>\n",
       "      <td>259.770000</td>\n",
       "      <td>2013.000000</td>\n",
       "      <td>214.270000</td>\n",
       "      <td>194.540000</td>\n",
       "      <td>255.970000</td>\n",
       "      <td>2038.110000</td>\n",
       "      <td>215.720000</td>\n",
       "      <td>195.300000</td>\n",
       "      <td>258.510000</td>\n",
       "      <td>2.385610e+07</td>\n",
       "      <td>1.698037e+08</td>\n",
       "      <td>3.049020e+07</td>\n",
       "      <td>1.464620e+07</td>\n",
       "    </tr>\n",
       "  </tbody>\n",
       "</table>\n",
       "</div>"
      ],
      "text/plain": [
       "         Adj Close                                              Close  \\\n",
       "              AMZN           FB         IBM          MMM         AMZN   \n",
       "count  1259.000000  1259.000000  1259.00000  1259.000000  1259.000000   \n",
       "mean    964.178284   131.219738   135.54251   169.896982   964.178284   \n",
       "std     523.790005    39.186009    11.69796    30.539279   523.790005   \n",
       "min     286.950000    62.760000   101.01000   116.500000   286.950000   \n",
       "25%     533.040000    94.710000   129.94500   142.820000   533.040000   \n",
       "50%     817.690000   129.050000   135.96000   165.350000   817.690000   \n",
       "75%    1496.305000   168.375000   142.09000   195.455000  1496.305000   \n",
       "max    2039.510000   217.500000   163.07000   245.840000  2039.510000   \n",
       "\n",
       "                                                     High               \\\n",
       "                FB          IBM          MMM         AMZN           FB   \n",
       "count  1259.000000  1259.000000  1259.000000  1259.000000  1259.000000   \n",
       "mean    131.219738   152.927331   182.279373   973.676632   132.486180   \n",
       "std      39.186009    16.291166    27.665719   529.544254    39.508962   \n",
       "min      62.760000   107.570000   132.900000   290.420000    65.120000   \n",
       "25%      94.710000   143.040000   159.850000   539.170000    95.945000   \n",
       "50%     129.050000   152.500000   177.710000   821.480000   129.940000   \n",
       "75%     168.375000   161.930000   204.365000  1521.800000   169.780000   \n",
       "max     217.500000   195.780000   258.630000  2050.500000   218.620000   \n",
       "\n",
       "                                         Low                            \\\n",
       "               IBM          MMM         AMZN           FB          IBM   \n",
       "count  1259.000000  1259.000000  1259.000000  1259.000000  1259.000000   \n",
       "mean    153.996465   183.444361   953.762248   129.815616   151.865338   \n",
       "std      16.262706    27.935093   517.691394    38.823024    16.327298   \n",
       "min     111.000000   134.640000   284.000000    62.210000   105.940000   \n",
       "25%     144.190000   160.720000   526.030000    93.610000   142.290000   \n",
       "50%     153.500000   178.550000   811.680000   128.200000   151.620000   \n",
       "75%     162.855000   205.480000  1476.060000   166.555000   160.905000   \n",
       "max     196.400000   259.770000  2013.000000   214.270000   194.540000   \n",
       "\n",
       "                           Open                                         \\\n",
       "               MMM         AMZN           FB          IBM          MMM   \n",
       "count  1259.000000  1259.000000  1259.000000  1259.000000  1259.000000   \n",
       "mean    180.975703   964.509095   131.166299   152.932621   182.236942   \n",
       "std      27.416398   524.395463    39.156205    16.296246    27.728488   \n",
       "min     130.600000   284.400000    63.310000   108.000000   132.560000   \n",
       "25%     158.825000   532.515000    94.910000   143.085000   159.780000   \n",
       "50%     176.830000   815.700000   129.130000   152.480000   177.480000   \n",
       "75%     202.355000  1490.200000   168.185000   161.935000   203.945000   \n",
       "max     255.970000  2038.110000   215.720000   195.300000   258.510000   \n",
       "\n",
       "             Volume                                            \n",
       "               AMZN            FB           IBM           MMM  \n",
       "count  1.259000e+03  1.259000e+03  1.259000e+03  1.259000e+03  \n",
       "mean   4.262105e+06  2.473897e+07  4.440818e+06  2.318927e+06  \n",
       "std    2.329250e+06  1.498600e+07  2.601262e+06  1.086868e+06  \n",
       "min    1.091200e+06  5.913100e+06  1.193000e+06  6.510000e+05  \n",
       "25%    2.780000e+06  1.560770e+07  3.072350e+06  1.684450e+06  \n",
       "50%    3.639900e+06  2.077400e+07  3.794900e+06  2.055600e+06  \n",
       "75%    4.928000e+06  2.867800e+07  4.899050e+06  2.624250e+06  \n",
       "max    2.385610e+07  1.698037e+08  3.049020e+07  1.464620e+07  "
      ]
     },
     "execution_count": 5,
     "metadata": {},
     "output_type": "execute_result"
    }
   ],
   "source": [
    "stocks.describe()"
   ]
  },
  {
   "cell_type": "code",
   "execution_count": 6,
   "metadata": {
    "scrolled": true
   },
   "outputs": [],
   "source": [
    "# Adjust close is a stock's closing price, on a given day of trading that has been amended to include any dispution \n",
    "# and the corporate actions that occurred at anytime before the next day's open. \n",
    "adj_close = stocks['Adj Close']"
   ]
  },
  {
   "cell_type": "code",
   "execution_count": 7,
   "metadata": {
    "scrolled": true
   },
   "outputs": [
    {
     "data": {
      "text/html": [
       "<div>\n",
       "<style scoped>\n",
       "    .dataframe tbody tr th:only-of-type {\n",
       "        vertical-align: middle;\n",
       "    }\n",
       "\n",
       "    .dataframe tbody tr th {\n",
       "        vertical-align: top;\n",
       "    }\n",
       "\n",
       "    .dataframe thead th {\n",
       "        text-align: right;\n",
       "    }\n",
       "</style>\n",
       "<table border=\"1\" class=\"dataframe\">\n",
       "  <thead>\n",
       "    <tr style=\"text-align: right;\">\n",
       "      <th></th>\n",
       "      <th>AMZN</th>\n",
       "      <th>FB</th>\n",
       "      <th>IBM</th>\n",
       "      <th>MMM</th>\n",
       "    </tr>\n",
       "    <tr>\n",
       "      <th>Date</th>\n",
       "      <th></th>\n",
       "      <th></th>\n",
       "      <th></th>\n",
       "      <th></th>\n",
       "    </tr>\n",
       "  </thead>\n",
       "  <tbody>\n",
       "    <tr>\n",
       "      <th>2014-07-01</th>\n",
       "      <td>332.39</td>\n",
       "      <td>68.06</td>\n",
       "      <td>150.02</td>\n",
       "      <td>125.97</td>\n",
       "    </tr>\n",
       "    <tr>\n",
       "      <th>2014-07-02</th>\n",
       "      <td>332.85</td>\n",
       "      <td>66.45</td>\n",
       "      <td>151.66</td>\n",
       "      <td>126.56</td>\n",
       "    </tr>\n",
       "    <tr>\n",
       "      <th>2014-07-03</th>\n",
       "      <td>337.49</td>\n",
       "      <td>66.29</td>\n",
       "      <td>151.77</td>\n",
       "      <td>126.71</td>\n",
       "    </tr>\n",
       "    <tr>\n",
       "      <th>2014-07-07</th>\n",
       "      <td>333.55</td>\n",
       "      <td>65.29</td>\n",
       "      <td>151.38</td>\n",
       "      <td>126.28</td>\n",
       "    </tr>\n",
       "    <tr>\n",
       "      <th>2014-07-08</th>\n",
       "      <td>323.81</td>\n",
       "      <td>62.76</td>\n",
       "      <td>150.72</td>\n",
       "      <td>125.97</td>\n",
       "    </tr>\n",
       "  </tbody>\n",
       "</table>\n",
       "</div>"
      ],
      "text/plain": [
       "              AMZN     FB     IBM     MMM\n",
       "Date                                     \n",
       "2014-07-01  332.39  68.06  150.02  125.97\n",
       "2014-07-02  332.85  66.45  151.66  126.56\n",
       "2014-07-03  337.49  66.29  151.77  126.71\n",
       "2014-07-07  333.55  65.29  151.38  126.28\n",
       "2014-07-08  323.81  62.76  150.72  125.97"
      ]
     },
     "execution_count": 7,
     "metadata": {},
     "output_type": "execute_result"
    }
   ],
   "source": [
    "adj_close.head()"
   ]
  },
  {
   "cell_type": "code",
   "execution_count": 8,
   "metadata": {
    "scrolled": true
   },
   "outputs": [
    {
     "data": {
      "text/plain": [
       "AMZN    False\n",
       "FB      False\n",
       "IBM     False\n",
       "MMM     False\n",
       "dtype: bool"
      ]
     },
     "execution_count": 8,
     "metadata": {},
     "output_type": "execute_result"
    }
   ],
   "source": [
    "adj_close.isnull().any()"
   ]
  },
  {
   "cell_type": "code",
   "execution_count": 9,
   "metadata": {
    "scrolled": true
   },
   "outputs": [
    {
     "data": {
      "text/html": [
       "<div>\n",
       "<style scoped>\n",
       "    .dataframe tbody tr th:only-of-type {\n",
       "        vertical-align: middle;\n",
       "    }\n",
       "\n",
       "    .dataframe tbody tr th {\n",
       "        vertical-align: top;\n",
       "    }\n",
       "\n",
       "    .dataframe thead th {\n",
       "        text-align: right;\n",
       "    }\n",
       "</style>\n",
       "<table border=\"1\" class=\"dataframe\">\n",
       "  <thead>\n",
       "    <tr style=\"text-align: right;\">\n",
       "      <th></th>\n",
       "      <th>AMZN</th>\n",
       "      <th>FB</th>\n",
       "      <th>IBM</th>\n",
       "      <th>MMM</th>\n",
       "    </tr>\n",
       "  </thead>\n",
       "  <tbody>\n",
       "    <tr>\n",
       "      <th>count</th>\n",
       "      <td>1259.000000</td>\n",
       "      <td>1259.000000</td>\n",
       "      <td>1259.00000</td>\n",
       "      <td>1259.000000</td>\n",
       "    </tr>\n",
       "    <tr>\n",
       "      <th>mean</th>\n",
       "      <td>964.178284</td>\n",
       "      <td>131.219738</td>\n",
       "      <td>135.54251</td>\n",
       "      <td>169.896982</td>\n",
       "    </tr>\n",
       "    <tr>\n",
       "      <th>std</th>\n",
       "      <td>523.790005</td>\n",
       "      <td>39.186009</td>\n",
       "      <td>11.69796</td>\n",
       "      <td>30.539279</td>\n",
       "    </tr>\n",
       "    <tr>\n",
       "      <th>min</th>\n",
       "      <td>286.950000</td>\n",
       "      <td>62.760000</td>\n",
       "      <td>101.01000</td>\n",
       "      <td>116.500000</td>\n",
       "    </tr>\n",
       "    <tr>\n",
       "      <th>25%</th>\n",
       "      <td>533.040000</td>\n",
       "      <td>94.710000</td>\n",
       "      <td>129.94500</td>\n",
       "      <td>142.820000</td>\n",
       "    </tr>\n",
       "    <tr>\n",
       "      <th>50%</th>\n",
       "      <td>817.690000</td>\n",
       "      <td>129.050000</td>\n",
       "      <td>135.96000</td>\n",
       "      <td>165.350000</td>\n",
       "    </tr>\n",
       "    <tr>\n",
       "      <th>75%</th>\n",
       "      <td>1496.305000</td>\n",
       "      <td>168.375000</td>\n",
       "      <td>142.09000</td>\n",
       "      <td>195.455000</td>\n",
       "    </tr>\n",
       "    <tr>\n",
       "      <th>max</th>\n",
       "      <td>2039.510000</td>\n",
       "      <td>217.500000</td>\n",
       "      <td>163.07000</td>\n",
       "      <td>245.840000</td>\n",
       "    </tr>\n",
       "  </tbody>\n",
       "</table>\n",
       "</div>"
      ],
      "text/plain": [
       "              AMZN           FB         IBM          MMM\n",
       "count  1259.000000  1259.000000  1259.00000  1259.000000\n",
       "mean    964.178284   131.219738   135.54251   169.896982\n",
       "std     523.790005    39.186009    11.69796    30.539279\n",
       "min     286.950000    62.760000   101.01000   116.500000\n",
       "25%     533.040000    94.710000   129.94500   142.820000\n",
       "50%     817.690000   129.050000   135.96000   165.350000\n",
       "75%    1496.305000   168.375000   142.09000   195.455000\n",
       "max    2039.510000   217.500000   163.07000   245.840000"
      ]
     },
     "execution_count": 9,
     "metadata": {},
     "output_type": "execute_result"
    }
   ],
   "source": [
    "adj_close.describe()"
   ]
  },
  {
   "cell_type": "code",
   "execution_count": 10,
   "metadata": {
    "scrolled": true
   },
   "outputs": [
    {
     "data": {
      "image/png": "[encoded data removed]",
      "text/plain": [
       "<Figure size 432x288 with 1 Axes>"
      ]
     },
     "metadata": {
      "needs_background": "light"
     },
     "output_type": "display_data"
    }
   ],
   "source": [
    "# Initial visualization of adjusted close prices for the four stocks\n",
    "adj_close.plot()\n",
    "plt.ylabel('Adjusted Close Price')\n",
    "plt.show();"
   ]
  },
  {
   "cell_type": "code",
   "execution_count": 11,
   "metadata": {
    "scrolled": true
   },
   "outputs": [
    {
     "data": {
      "text/html": [
       "<div>\n",
       "<style scoped>\n",
       "    .dataframe tbody tr th:only-of-type {\n",
       "        vertical-align: middle;\n",
       "    }\n",
       "\n",
       "    .dataframe tbody tr th {\n",
       "        vertical-align: top;\n",
       "    }\n",
       "\n",
       "    .dataframe thead th {\n",
       "        text-align: right;\n",
       "    }\n",
       "</style>\n",
       "<table border=\"1\" class=\"dataframe\">\n",
       "  <thead>\n",
       "    <tr style=\"text-align: right;\">\n",
       "      <th></th>\n",
       "      <th>AMZN</th>\n",
       "      <th>FB</th>\n",
       "      <th>IBM</th>\n",
       "      <th>MMM</th>\n",
       "    </tr>\n",
       "    <tr>\n",
       "      <th>Date</th>\n",
       "      <th></th>\n",
       "      <th></th>\n",
       "      <th></th>\n",
       "      <th></th>\n",
       "    </tr>\n",
       "  </thead>\n",
       "  <tbody>\n",
       "    <tr>\n",
       "      <th>2014-07-31</th>\n",
       "      <td>312.99</td>\n",
       "      <td>72.65</td>\n",
       "      <td>154.30</td>\n",
       "      <td>122.77</td>\n",
       "    </tr>\n",
       "    <tr>\n",
       "      <th>2014-08-29</th>\n",
       "      <td>339.04</td>\n",
       "      <td>74.82</td>\n",
       "      <td>155.72</td>\n",
       "      <td>126.23</td>\n",
       "    </tr>\n",
       "  </tbody>\n",
       "</table>\n",
       "</div>"
      ],
      "text/plain": [
       "              AMZN     FB     IBM     MMM\n",
       "Date                                     \n",
       "2014-07-31  312.99  72.65  154.30  122.77\n",
       "2014-08-29  339.04  74.82  155.72  126.23"
      ]
     },
     "execution_count": 11,
     "metadata": {},
     "output_type": "execute_result"
    }
   ],
   "source": [
    "#  stock prices for the end of the business month\n",
    "stocks_monthend_mean = adj_close.resample('BM').last()\n",
    "stocks_monthend_mean.head(2)"
   ]
  },
  {
   "cell_type": "code",
   "execution_count": 12,
   "metadata": {
    "scrolled": true
   },
   "outputs": [],
   "source": [
    "# Function for creating autocorrelation plots\n",
    "def autocorrelation_plots(df):\n",
    "    labels = df.columns    \n",
    "    for i in range(len(df.columns)):\n",
    "        autocorrelation_plot(df.iloc[:,i], label = labels[i])   "
   ]
  },
  {
   "cell_type": "code",
   "execution_count": 13,
   "metadata": {},
   "outputs": [
    {
     "data": {
      "image/png": "[encoded data removed]",
      "text/plain": [
       "<Figure size 432x288 with 1 Axes>"
      ]
     },
     "metadata": {
      "needs_background": "light"
     },
     "output_type": "display_data"
    }
   ],
   "source": [
    "# Autocorrelation plots of the adjusted month-end close prices for each of the stocks for the last 60 months\n",
    "autocorrelation_plots(stocks_monthend_mean)\n",
    "plt.title('Autocorrelation Plots of Monthend Mean')\n",
    "plt.show();"
   ]
  },
  {
   "cell_type": "markdown",
   "metadata": {},
   "source": [
    "#### General observations:\n",
    "\n",
    "In this plot, if the line is above or below the dotted line, not in between, we can say that the correlation is significant, and that the adjusted closed value is correlated to time. The autocorrelation at lag zero for all the stocks is always one. This is because a series is always perfectly correlated with itself.\n",
    "\n",
    "*For Amazon (AMZN), Facebook (FB), and the Minnesota Mining and Manufacturing Company (MMM):*\n",
    "\n",
    "   * At lag 1, autocorrelation value is close to 1 inidative of very strong autocorrelation. This suggests that the adjusted close prices at a given month are very similar to the prices of the adjacent month. This same behavior can be observed up until about month 10.  Moderate autocorrelation (0.5 to 0.3) is evident afterwards (~lag 11-13). The values then begin to taper off as values inidicate weak autocorrelation before it starts to pick up again this time with weak negative autocorrelation. The plot hits a minimum at around lag 40 (moderate negative correlation) then values slowly come back up, still in the weak negative range.\n",
    "  \n",
    "*For IBM:*\n",
    " \n",
    "   * Only th first two lags are strongly autocorrelated. Lag 3 has moderate autocorrelation while the rest the observations are mostly in the weak autocorrelation range.\n",
    " \n",
    " "
   ]
  },
  {
   "cell_type": "code",
   "execution_count": 14,
   "metadata": {
    "scrolled": true
   },
   "outputs": [
    {
     "data": {
      "text/html": [
       "<div>\n",
       "<style scoped>\n",
       "    .dataframe tbody tr th:only-of-type {\n",
       "        vertical-align: middle;\n",
       "    }\n",
       "\n",
       "    .dataframe tbody tr th {\n",
       "        vertical-align: top;\n",
       "    }\n",
       "\n",
       "    .dataframe thead th {\n",
       "        text-align: right;\n",
       "    }\n",
       "</style>\n",
       "<table border=\"1\" class=\"dataframe\">\n",
       "  <thead>\n",
       "    <tr style=\"text-align: right;\">\n",
       "      <th></th>\n",
       "      <th>AMZN</th>\n",
       "      <th>FB</th>\n",
       "      <th>IBM</th>\n",
       "      <th>MMM</th>\n",
       "    </tr>\n",
       "    <tr>\n",
       "      <th>Date</th>\n",
       "      <th></th>\n",
       "      <th></th>\n",
       "      <th></th>\n",
       "      <th></th>\n",
       "    </tr>\n",
       "  </thead>\n",
       "  <tbody>\n",
       "    <tr>\n",
       "      <th>2014-08-29</th>\n",
       "      <td>0.083229</td>\n",
       "      <td>0.029869</td>\n",
       "      <td>0.009203</td>\n",
       "      <td>0.028183</td>\n",
       "    </tr>\n",
       "    <tr>\n",
       "      <th>2014-09-30</th>\n",
       "      <td>-0.048962</td>\n",
       "      <td>0.056402</td>\n",
       "      <td>-0.012844</td>\n",
       "      <td>-0.016082</td>\n",
       "    </tr>\n",
       "    <tr>\n",
       "      <th>2014-10-31</th>\n",
       "      <td>-0.052661</td>\n",
       "      <td>-0.051240</td>\n",
       "      <td>-0.133945</td>\n",
       "      <td>0.085346</td>\n",
       "    </tr>\n",
       "    <tr>\n",
       "      <th>2014-11-28</th>\n",
       "      <td>0.108623</td>\n",
       "      <td>0.036138</td>\n",
       "      <td>-0.006835</td>\n",
       "      <td>0.046662</td>\n",
       "    </tr>\n",
       "    <tr>\n",
       "      <th>2014-12-31</th>\n",
       "      <td>-0.083540</td>\n",
       "      <td>0.004118</td>\n",
       "      <td>-0.010664</td>\n",
       "      <td>0.026437</td>\n",
       "    </tr>\n",
       "  </tbody>\n",
       "</table>\n",
       "</div>"
      ],
      "text/plain": [
       "                AMZN        FB       IBM       MMM\n",
       "Date                                              \n",
       "2014-08-29  0.083229  0.029869  0.009203  0.028183\n",
       "2014-09-30 -0.048962  0.056402 -0.012844 -0.016082\n",
       "2014-10-31 -0.052661 -0.051240 -0.133945  0.085346\n",
       "2014-11-28  0.108623  0.036138 -0.006835  0.046662\n",
       "2014-12-31 -0.083540  0.004118 -0.010664  0.026437"
      ]
     },
     "execution_count": 14,
     "metadata": {},
     "output_type": "execute_result"
    }
   ],
   "source": [
    "# Calculating the monthly returns for each stock using the \"shift trick\" \n",
    "stocks_return = stocks_monthend_mean/ stocks_monthend_mean.shift(1) -1\n",
    "stocks_return.dropna(inplace = True)\n",
    "stocks_return.head()"
   ]
  },
  {
   "cell_type": "code",
   "execution_count": 15,
   "metadata": {
    "scrolled": true
   },
   "outputs": [
    {
     "data": {
      "image/png": "[encoded data removed]",
      "text/plain": [
       "<Figure size 432x288 with 1 Axes>"
      ]
     },
     "metadata": {
      "needs_background": "light"
     },
     "output_type": "display_data"
    }
   ],
   "source": [
    "#Autocorrelation plots of the adjusted month-end close prices for each of the stocks for the last 60 months\n",
    "autocorrelation_plots(stocks_return)\n",
    "plt.title('Autocorrelation Plots of Stock Return')\n",
    "plt.show();"
   ]
  },
  {
   "cell_type": "markdown",
   "metadata": {},
   "source": [
    "**General Observation**\n",
    "* The autocorrelation plots of the monthly returns for all four stocks show that the returns have very weak to no significant autocorrelation (values between +0.25 to -0.25)."
   ]
  },
  {
   "cell_type": "code",
   "execution_count": 16,
   "metadata": {
    "scrolled": true
   },
   "outputs": [
    {
     "data": {
      "text/html": [
       "<div>\n",
       "<style scoped>\n",
       "    .dataframe tbody tr th:only-of-type {\n",
       "        vertical-align: middle;\n",
       "    }\n",
       "\n",
       "    .dataframe tbody tr th {\n",
       "        vertical-align: top;\n",
       "    }\n",
       "\n",
       "    .dataframe thead th {\n",
       "        text-align: right;\n",
       "    }\n",
       "</style>\n",
       "<table border=\"1\" class=\"dataframe\">\n",
       "  <thead>\n",
       "    <tr style=\"text-align: right;\">\n",
       "      <th></th>\n",
       "      <th>AMZN</th>\n",
       "      <th>FB</th>\n",
       "      <th>IBM</th>\n",
       "      <th>MMM</th>\n",
       "    </tr>\n",
       "    <tr>\n",
       "      <th>Date</th>\n",
       "      <th></th>\n",
       "      <th></th>\n",
       "      <th></th>\n",
       "      <th></th>\n",
       "    </tr>\n",
       "  </thead>\n",
       "  <tbody>\n",
       "    <tr>\n",
       "      <th>2014-08-29</th>\n",
       "      <td>0.083229</td>\n",
       "      <td>0.029869</td>\n",
       "      <td>0.009203</td>\n",
       "      <td>0.028183</td>\n",
       "    </tr>\n",
       "    <tr>\n",
       "      <th>2014-09-30</th>\n",
       "      <td>-0.048962</td>\n",
       "      <td>0.056402</td>\n",
       "      <td>-0.012844</td>\n",
       "      <td>-0.016082</td>\n",
       "    </tr>\n",
       "    <tr>\n",
       "      <th>2014-10-31</th>\n",
       "      <td>-0.052661</td>\n",
       "      <td>-0.051240</td>\n",
       "      <td>-0.133945</td>\n",
       "      <td>0.085346</td>\n",
       "    </tr>\n",
       "    <tr>\n",
       "      <th>2014-11-28</th>\n",
       "      <td>0.108623</td>\n",
       "      <td>0.036138</td>\n",
       "      <td>-0.006835</td>\n",
       "      <td>0.046662</td>\n",
       "    </tr>\n",
       "    <tr>\n",
       "      <th>2014-12-31</th>\n",
       "      <td>-0.083540</td>\n",
       "      <td>0.004118</td>\n",
       "      <td>-0.010664</td>\n",
       "      <td>0.026437</td>\n",
       "    </tr>\n",
       "  </tbody>\n",
       "</table>\n",
       "</div>"
      ],
      "text/plain": [
       "                AMZN        FB       IBM       MMM\n",
       "Date                                              \n",
       "2014-08-29  0.083229  0.029869  0.009203  0.028183\n",
       "2014-09-30 -0.048962  0.056402 -0.012844 -0.016082\n",
       "2014-10-31 -0.052661 -0.051240 -0.133945  0.085346\n",
       "2014-11-28  0.108623  0.036138 -0.006835  0.046662\n",
       "2014-12-31 -0.083540  0.004118 -0.010664  0.026437"
      ]
     },
     "execution_count": 16,
     "metadata": {},
     "output_type": "execute_result"
    }
   ],
   "source": [
    "# All 4 time series (returns) in a single DataFrame\n",
    "stocks_return.head()"
   ]
  },
  {
   "cell_type": "code",
   "execution_count": 18,
   "metadata": {
    "scrolled": false
   },
   "outputs": [
    {
     "data": {
      "image/png": "[encoded data removed]",
      "text/plain": [
       "<Figure size 576x576 with 16 Axes>"
      ]
     },
     "metadata": {
      "needs_background": "light"
     },
     "output_type": "display_data"
    }
   ],
   "source": [
    "# Correlation between the returns of all pairs of stocks_return using the  scatter plot matrix function of pandas.\n",
    "scatter_matrix(stocks_return, figsize = (8, 8), alpha = 1, diagonal = 'hist');"
   ]
  },
  {
   "cell_type": "code",
   "execution_count": 19,
   "metadata": {
    "scrolled": true
   },
   "outputs": [
    {
     "data": {
      "text/html": [
       "<div>\n",
       "<style scoped>\n",
       "    .dataframe tbody tr th:only-of-type {\n",
       "        vertical-align: middle;\n",
       "    }\n",
       "\n",
       "    .dataframe tbody tr th {\n",
       "        vertical-align: top;\n",
       "    }\n",
       "\n",
       "    .dataframe thead th {\n",
       "        text-align: right;\n",
       "    }\n",
       "</style>\n",
       "<table border=\"1\" class=\"dataframe\">\n",
       "  <thead>\n",
       "    <tr style=\"text-align: right;\">\n",
       "      <th></th>\n",
       "      <th>AMZN</th>\n",
       "      <th>FB</th>\n",
       "      <th>IBM</th>\n",
       "      <th>MMM</th>\n",
       "    </tr>\n",
       "  </thead>\n",
       "  <tbody>\n",
       "    <tr>\n",
       "      <th>AMZN</th>\n",
       "      <td>1.000000</td>\n",
       "      <td>0.493885</td>\n",
       "      <td>0.484880</td>\n",
       "      <td>0.337760</td>\n",
       "    </tr>\n",
       "    <tr>\n",
       "      <th>FB</th>\n",
       "      <td>0.493885</td>\n",
       "      <td>1.000000</td>\n",
       "      <td>0.274405</td>\n",
       "      <td>0.120373</td>\n",
       "    </tr>\n",
       "    <tr>\n",
       "      <th>IBM</th>\n",
       "      <td>0.484880</td>\n",
       "      <td>0.274405</td>\n",
       "      <td>1.000000</td>\n",
       "      <td>0.502563</td>\n",
       "    </tr>\n",
       "    <tr>\n",
       "      <th>MMM</th>\n",
       "      <td>0.337760</td>\n",
       "      <td>0.120373</td>\n",
       "      <td>0.502563</td>\n",
       "      <td>1.000000</td>\n",
       "    </tr>\n",
       "  </tbody>\n",
       "</table>\n",
       "</div>"
      ],
      "text/plain": [
       "          AMZN        FB       IBM       MMM\n",
       "AMZN  1.000000  0.493885  0.484880  0.337760\n",
       "FB    0.493885  1.000000  0.274405  0.120373\n",
       "IBM   0.484880  0.274405  1.000000  0.502563\n",
       "MMM   0.337760  0.120373  0.502563  1.000000"
      ]
     },
     "execution_count": 19,
     "metadata": {},
     "output_type": "execute_result"
    }
   ],
   "source": [
    "stocks_return_corr = stocks_return.corr()\n",
    "stocks_return_corr"
   ]
  },
  {
   "cell_type": "markdown",
   "metadata": {},
   "source": [
    "**Insight on Correlation of Stock Returns:**\n",
    "\n",
    "* From the scatter matrix plot above, it is evident that the returns among stocks have weak to moderate positive correlations. This means that the returns of these stocks in general tend to move towards the same direction. Among those analyzed, IBM and MMM has the highest correlation (0.39) while Amazon and MMM has the lowest correlation (0.19). The moderate positive correlation among Amazon, FB and IBM can be due to the fact that they all belong in the technology sector. The relatively small correlation of MMM with FB and Amazon can be due to to MMM belonging to a different industry, providing different services and having different operations (MMM is a multinational conglomerate corporation operating in the fields of industry, worker safety, health care, and consumer goods). The moderate correlation between IBM and MMM can simply indicate a similar behavior being exhibited by these two companies for the time period analyzed."
   ]
  },
  {
   "cell_type": "code",
   "execution_count": 20,
   "metadata": {
    "scrolled": true
   },
   "outputs": [
    {
     "data": {
      "image/png": "[encoded data removed]",
      "text/plain": [
       "<Figure size 576x288 with 2 Axes>"
      ]
     },
     "metadata": {
      "needs_background": "light"
     },
     "output_type": "display_data"
    }
   ],
   "source": [
    "# Visualize the correlation of the returns of all pairs of stocks\n",
    "fig = plt.figure(figsize=(8,4))\n",
    "plt.matshow(stocks_return.corr(), fignum = fig.number, cmap = 'coolwarm')\n",
    "plt.xticks(range(stocks_return.shape[1]), stocks_return.columns, fontsize=10, rotation = 45)\n",
    "plt.yticks(range(stocks_return.shape[1]), stocks_return.columns, fontsize=10)\n",
    "cb = plt.colorbar()\n",
    "cb.ax.tick_params(labelsize=8)\n",
    "plt.title('Correlation matrix for stock returns', fontsize=16, y=-0.2);"
   ]
  }
 ],
 "metadata": {
  "kernelspec": {
   "display_name": "Python 3",
   "language": "python",
   "name": "python3"
  },
  "language_info": {
   "codemirror_mode": {
    "name": "ipython",
    "version": 3
   },
   "file_extension": ".py",
   "mimetype": "text/x-python",
   "name": "python",
   "nbconvert_exporter": "python",
   "pygments_lexer": "ipython3",
   "version": "3.7.3"
  },
  "toc": {
   "base_numbering": 1,
   "nav_menu": {},
   "number_sections": false,
   "sideBar": true,
   "skip_h1_title": false,
   "title_cell": "Table of Contents",
   "title_sidebar": "Contents",
   "toc_cell": false,
   "toc_position": {},
   "toc_section_display": true,
   "toc_window_display": false
  }
 },
 "nbformat": 4,
 "nbformat_minor": 2
}
